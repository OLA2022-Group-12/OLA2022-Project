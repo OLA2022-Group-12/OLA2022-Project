{
 "cells": [
  {
   "attachments": {},
   "cell_type": "markdown",
   "id": "ae2163bd",
   "metadata": {},
   "source": [
    "# Graphless"
   ]
  },
  {
   "cell_type": "markdown",
   "id": "7213617d",
   "metadata": {},
   "source": [
    "#### Import statements\n",
    "Used to import local functions/modules or external libraries inside the notebook."
   ]
  },
  {
   "cell_type": "code",
   "execution_count": 1,
   "id": "3cd0f881",
   "metadata": {},
   "outputs": [],
   "source": [
    "from ola2022_project.environment.environment import example_environment, Step, UserClassParameters\n",
    "from ola2022_project.simulation.simulation import Simulation, create_n, simulate_n\n",
    "from ola2022_project.learners import *\n",
    "from ola2022_project.algorithms.multi_armed_bandits import Mab\n",
    "from ola2022_project.algorithms.reward_estimator import clairvoyant_reward\n",
    "\n",
    "import numpy as np\n",
    "import matplotlib.pyplot as plt\n",
    "import random\n",
    "\n",
    "plt.style.use('seaborn-v0_8-dark')"
   ]
  },
  {
   "cell_type": "markdown",
   "id": "df97459c",
   "metadata": {},
   "source": [
    "#### Plotting functions\n",
    "Functions used to plot data onto a graph for an immediate visualization and analysis."
   ]
  },
  {
   "cell_type": "code",
   "execution_count": 2,
   "id": "de969668",
   "metadata": {},
   "outputs": [],
   "source": [
    "def compute_regret(rewards, avg_clairvoyant_reward):\n",
    "    regret = avg_clairvoyant_reward - rewards\n",
    "    regret[regret<0] = 0\n",
    "    return np.cumsum(regret)\n"
   ]
  },
  {
   "cell_type": "code",
   "execution_count": 3,
   "id": "d08d0000",
   "metadata": {},
   "outputs": [],
   "source": [
    "# Function used for quickly plotting multiple experiments onto a graph\n",
    "def plot_experiment(n_days, rewards, avg_clairvoyant_reward, title, reward_color='cornflowerblue', regret_color='salmon'):\n",
    "\n",
    "    regret_plot = compute_regret(rewards, avg_clairvoyant_reward)\n",
    "    clairvoyant_plot = np.ones(len(rewards)) * avg_clairvoyant_reward\n",
    "\n",
    "    fig, ax = plt.subplots(nrows=1, ncols=2, figsize=(12,4))\n",
    "\n",
    "    ax[0].plot(rewards, color=reward_color, label='Rewards')\n",
    "    ax[0].title.set_text(f'{title} reward')\n",
    "    ax[0].plot(clairvoyant_plot, color=reward_color, linestyle='--', label='Average clairvoyant reward')\n",
    "    ax[0].legend(loc='best')\n",
    "\n",
    "    ax[1].plot(regret_plot, color=regret_color)\n",
    "    ax[1].title.set_text(f'{title} regret')\n",
    "   \n",
    "    plt.show()"
   ]
  },
  {
   "cell_type": "markdown",
   "id": "a253765c",
   "metadata": {},
   "source": [
    "### Environment setup\n",
    "We will run both learners in the same exact environment."
   ]
  },
  {
   "cell_type": "code",
   "execution_count": 4,
   "id": "01ee0bb0",
   "metadata": {},
   "outputs": [],
   "source": [
    "# This function exists because jupyter seems to be caching values and does not allow \n",
    "# repeatibility in the same notebook\n",
    "def make_env(rng):\n",
    "    classes_parameters=[\n",
    "            [\n",
    "                UserClassParameters(10, 0.01, 120),\n",
    "                UserClassParameters(10, 0.15, 120),\n",
    "                UserClassParameters(8, 0.5, 300),\n",
    "                UserClassParameters(7, 0.05, 220),\n",
    "                UserClassParameters(14, 0.15, 170),\n",
    "            ],\n",
    "            [\n",
    "                UserClassParameters(22, 0.02, 190),\n",
    "                UserClassParameters(20, 0.1, 210),\n",
    "                UserClassParameters(16, 0.25, 240),\n",
    "                UserClassParameters(24, 0.03, 280),\n",
    "                UserClassParameters(20, 0.5, 360),\n",
    "            ],\n",
    "            [\n",
    "                UserClassParameters(33, 0.02, 180),\n",
    "                UserClassParameters(25, 0.15, 210),\n",
    "                UserClassParameters(30, 0.35, 240),\n",
    "                UserClassParameters(31, 0.05, 400),\n",
    "                UserClassParameters(36, 0.5, 420),\n",
    "            ],\n",
    "        ]\n",
    "\n",
    "    # Creating the environment\n",
    "    env = example_environment(\n",
    "        rng=rng,\n",
    "        total_budget=250,\n",
    "        class_ratios=[0.3, 0.6, 0.1],\n",
    "        product_prices=[9, 15, 8, 22, 1],\n",
    "        classes_parameters=classes_parameters,\n",
    "        lam=0.5,\n",
    "        max_items=3,\n",
    "        graph_fully_connected=True,\n",
    "        graph_zeros_probability=0.5,\n",
    "        next_products=[(2, 3), (0, 2), (1, 4), (4, 1), (3, 0)],\n",
    "        random_noise=1e-3,\n",
    "        graph=np.array(\n",
    "            [\n",
    "                [0, 0, 0.2, 0.4, 0],\n",
    "                [0.3, 0, 0.8, 0, 0],\n",
    "                [0, 0.2, 0, 0, 0.2],\n",
    "                [0, 0.9, 0, 0, 0.8],\n",
    "                [0.9, 0, 0, 0.8, 0],\n",
    "            ]\n",
    "        ),\n",
    "    )\n",
    "    return env"
   ]
  },
  {
   "cell_type": "code",
   "execution_count": 5,
   "id": "13147ad4",
   "metadata": {},
   "outputs": [],
   "source": [
    "# Random Number Generator used as a source of randomness by the environment and the simulation\n",
    "seed =  1403\n",
    "rng = np.random.default_rng(seed)"
   ]
  },
  {
   "cell_type": "code",
   "execution_count": 6,
   "id": "d90ebdaa",
   "metadata": {},
   "outputs": [],
   "source": [
    "# Creating the environment\n",
    "env = make_env(rng)"
   ]
  },
  {
   "cell_type": "markdown",
   "id": "d7bbe24d",
   "metadata": {},
   "source": [
    "#### Default parameters"
   ]
  },
  {
   "cell_type": "code",
   "execution_count": 7,
   "id": "c3b99efe",
   "metadata": {},
   "outputs": [],
   "source": [
    "# Simulation separated default parameters\n",
    "sim_n_days = 50\n",
    "avg_clairvoyant_reward = clairvoyant_reward(env, 1000, 250, 20)"
   ]
  },
  {
   "cell_type": "markdown",
   "id": "22701a03",
   "metadata": {},
   "source": [
    "## GP Thompson Sampling implementation"
   ]
  },
  {
   "cell_type": "code",
   "execution_count": 8,
   "id": "229205d5",
   "metadata": {
    "scrolled": true
   },
   "outputs": [],
   "source": [
    "# Creating the simulation\n",
    "simulation = Simulation(\n",
    "    rng,\n",
    "    env,\n",
    "    step=Step.THREE,\n",
    "    n_budget_steps=20,\n",
    "    population_mean=1000,\n",
    "    population_variance=10,\n",
    "    mab_algorithm=Mab.GPTS,\n",
    ")"
   ]
  },
  {
   "cell_type": "code",
   "execution_count": 9,
   "id": "b5d51b31",
   "metadata": {},
   "outputs": [
    {
     "data": {
      "application/vnd.jupyter.widget-view+json": {
       "model_id": "b09b3509b956423f829aed960d1913cf",
       "version_major": 2,
       "version_minor": 0
      },
      "text/plain": [
       "days:   0%|          | 0/50 [00:00<?, ?it/s]"
      ]
     },
     "metadata": {},
     "output_type": "display_data"
    }
   ],
   "source": [
    "# Running the simulation\n",
    "simulation.simulate(sim_n_days)\n",
    "ts_rewards = simulation.rewards"
   ]
  },
  {
   "cell_type": "markdown",
   "id": "40de1c93",
   "metadata": {},
   "source": [
    "### Results"
   ]
  },
  {
   "cell_type": "code",
   "execution_count": 10,
   "id": "01edeb73",
   "metadata": {
    "scrolled": true
   },
   "outputs": [
    {
     "data": {
      "image/png": "[encoded data removed]",
      "text/plain": [
       "<Figure size 1200x400 with 2 Axes>"
      ]
     },
     "metadata": {},
     "output_type": "display_data"
    }
   ],
   "source": [
    "# Plotting the experiment\n",
    "plot_experiment(sim_n_days, ts_rewards, avg_clairvoyant_reward, 'Graphless')"
   ]
  },
  {
   "cell_type": "markdown",
   "id": "54be9038",
   "metadata": {},
   "source": [
    "Here we can see a plot of the reward for each day of simulation and the corresponding regret.\n",
    "As we can see the learner reaches the optimal superarm very quickly (8 days roughly). As expected from Thompson Sampling, we observe a bit of instability sometimes. This is because the MAB can occasionally choose a suboptimal arm due to the random nature of the algorithm.\n",
    "\n",
    "Note: the reward sometimes is higher than the clairvoyant line. This something we expect since the environment leverages randomness to a certain extent. Therefore, since the clairvoyant reward is computed deterministically the reward, out of pure luck, can be higher."
   ]
  },
  {
   "cell_type": "markdown",
   "id": "5d39588e",
   "metadata": {},
   "source": [
    "# Average Behaviour\n",
    "Now we compute average reward and regret (including standard deviation) over a significant number of runs."
   ]
  },
  {
   "cell_type": "code",
   "execution_count": 11,
   "id": "a6d9796f",
   "metadata": {},
   "outputs": [],
   "source": [
    "# Function used for quickly plotting multiple experiments onto a graph\n",
    "def plot_avg_experiments(n_days, n_rewards, avg_clairvoyant_reward, title, reward_color='cornflowerblue', regret_color='salmon', std_color='salmon'):\n",
    "\n",
    "    avg_reward = np.average(n_rewards, axis=0)\n",
    "    std_reward = np.std(n_rewards, axis=0)\n",
    "    x = np.arange(n_days)\n",
    "\n",
    "    avg_regret = avg_clairvoyant_reward - avg_reward\n",
    "    avg_regret[avg_regret<0] = 0\n",
    "    avg_regret = np.cumsum(avg_regret)\n",
    "    \n",
    "    upper_std_regret = avg_clairvoyant_reward - avg_reward + std_reward\n",
    "    upper_std_regret[upper_std_regret<0] = 0\n",
    "    upper_std_regret = np.cumsum(upper_std_regret)\n",
    "\n",
    "    lower_std_regret = avg_clairvoyant_reward - avg_reward - std_reward\n",
    "    lower_std_regret[lower_std_regret<0] = 0\n",
    "    lower_std_regret = np.cumsum(lower_std_regret)\n",
    "\n",
    "    clairvoyant_plot = np.ones(len(avg_reward)) * avg_clairvoyant_reward\n",
    "\n",
    "    _, ax = plt.subplots(nrows=1, ncols=2, figsize=(12,4))\n",
    "\n",
    "    ax[0].plot(avg_reward, color=reward_color, label='Rewards')\n",
    "    ax[0].title.set_text(f'{title} average reward over {len(n_rewards)} experiments')\n",
    "    ax[0].plot(clairvoyant_plot, color=reward_color, linestyle='--', label='Average clairvoyant reward')\n",
    "    ax[0].legend(loc='best')\n",
    "\n",
    "    ax[0].fill_between(x, (avg_reward-std_reward), (avg_reward+std_reward), color=std_color, alpha=.1, label= 'std')\n",
    "\n",
    "    ax[1].plot(avg_regret, color=regret_color)\n",
    "    ax[1].title.set_text(f'{title} average regret over {len(n_rewards)} experiments')\n",
    "\n",
    "    ax[1].fill_between(x, lower_std_regret, upper_std_regret, color=std_color, alpha=.1)\n",
    "        \n",
    "    plt.show()"
   ]
  },
  {
   "cell_type": "code",
   "execution_count": 12,
   "id": "76413c8f",
   "metadata": {},
   "outputs": [],
   "source": [
    "rng = np.random.default_rng(seed)\n",
    "env = make_env(rng)"
   ]
  },
  {
   "cell_type": "code",
   "execution_count": 13,
   "id": "69b019f7",
   "metadata": {},
   "outputs": [],
   "source": [
    "sim_n_experiments = 30\n",
    "n_days = 50\n",
    "seed = 1403\n",
    "\n",
    "# Creating multiple simulations\n",
    "simulations = create_n(\n",
    "    rng,\n",
    "    env,\n",
    "    step=Step.THREE,\n",
    "    n=sim_n_experiments,\n",
    "    n_budget_steps=20,\n",
    "    population_mean=1000,\n",
    "    population_variance=10,\n",
    "    mab_algorithm=Mab.GPTS,\n",
    ")"
   ]
  },
  {
   "cell_type": "code",
   "execution_count": 14,
   "id": "3a2016a3",
   "metadata": {},
   "outputs": [
    {
     "data": {
      "application/vnd.jupyter.widget-view+json": {
       "model_id": "9df81742c3204c8fa822d9405f09affd",
       "version_major": 2,
       "version_minor": 0
      },
      "text/plain": [
       "days:   0%|          | 0/50 [00:00<?, ?it/s]"
      ]
     },
     "metadata": {},
     "output_type": "display_data"
    },
    {
     "data": {
      "application/vnd.jupyter.widget-view+json": {
       "model_id": "937d1785dd4e4351aa8594972993cc34",
       "version_major": 2,
       "version_minor": 0
      },
      "text/plain": [
       "days:   0%|          | 0/50 [00:00<?, ?it/s]"
      ]
     },
     "metadata": {},
     "output_type": "display_data"
    },
    {
     "data": {
      "application/vnd.jupyter.widget-view+json": {
       "model_id": "2e4408b5312743409efbef4de6bb975c",
       "version_major": 2,
       "version_minor": 0
      },
      "text/plain": [
       "days:   0%|          | 0/50 [00:00<?, ?it/s]"
      ]
     },
     "metadata": {},
     "output_type": "display_data"
    },
    {
     "data": {
      "application/vnd.jupyter.widget-view+json": {
       "model_id": "a357b39661dc4cf78bfc9c6db6d84e86",
       "version_major": 2,
       "version_minor": 0
      },
      "text/plain": [
       "days:   0%|          | 0/50 [00:00<?, ?it/s]"
      ]
     },
     "metadata": {},
     "output_type": "display_data"
    },
    {
     "data": {
      "application/vnd.jupyter.widget-view+json": {
       "model_id": "14a43dd59018403ba35526771e8fd6ae",
       "version_major": 2,
       "version_minor": 0
      },
      "text/plain": [
       "days:   0%|          | 0/50 [00:00<?, ?it/s]"
      ]
     },
     "metadata": {},
     "output_type": "display_data"
    },
    {
     "data": {
      "application/vnd.jupyter.widget-view+json": {
       "model_id": "fec6b392528c4b89bb20136c147efc05",
       "version_major": 2,
       "version_minor": 0
      },
      "text/plain": [
       "days:   0%|          | 0/50 [00:00<?, ?it/s]"
      ]
     },
     "metadata": {},
     "output_type": "display_data"
    },
    {
     "data": {
      "application/vnd.jupyter.widget-view+json": {
       "model_id": "766b75cb9a3a433e953227d15de5e677",
       "version_major": 2,
       "version_minor": 0
      },
      "text/plain": [
       "days:   0%|          | 0/50 [00:00<?, ?it/s]"
      ]
     },
     "metadata": {},
     "output_type": "display_data"
    },
    {
     "data": {
      "application/vnd.jupyter.widget-view+json": {
       "model_id": "68c40213d4ed4069a67d6437502d0bdd",
       "version_major": 2,
       "version_minor": 0
      },
      "text/plain": [
       "days:   0%|          | 0/50 [00:00<?, ?it/s]"
      ]
     },
     "metadata": {},
     "output_type": "display_data"
    },
    {
     "data": {
      "application/vnd.jupyter.widget-view+json": {
       "model_id": "30c76740602b4a8aa5ced54999ed86a0",
       "version_major": 2,
       "version_minor": 0
      },
      "text/plain": [
       "days:   0%|          | 0/50 [00:00<?, ?it/s]"
      ]
     },
     "metadata": {},
     "output_type": "display_data"
    },
    {
     "data": {
      "application/vnd.jupyter.widget-view+json": {
       "model_id": "c2279e7583724a11a19f6d155b232e26",
       "version_major": 2,
       "version_minor": 0
      },
      "text/plain": [
       "days:   0%|          | 0/50 [00:00<?, ?it/s]"
      ]
     },
     "metadata": {},
     "output_type": "display_data"
    },
    {
     "data": {
      "application/vnd.jupyter.widget-view+json": {
       "model_id": "e03c48307bdc48e78ada7d0d98bed749",
       "version_major": 2,
       "version_minor": 0
      },
      "text/plain": [
       "days:   0%|          | 0/50 [00:00<?, ?it/s]"
      ]
     },
     "metadata": {},
     "output_type": "display_data"
    },
    {
     "data": {
      "application/vnd.jupyter.widget-view+json": {
       "model_id": "8cd8d9337cec44a79415b675d22f0786",
       "version_major": 2,
       "version_minor": 0
      },
      "text/plain": [
       "days:   0%|          | 0/50 [00:00<?, ?it/s]"
      ]
     },
     "metadata": {},
     "output_type": "display_data"
    },
    {
     "data": {
      "application/vnd.jupyter.widget-view+json": {
       "model_id": "ef619c8ebabb4f7086521eb4b5875e07",
       "version_major": 2,
       "version_minor": 0
      },
      "text/plain": [
       "days:   0%|          | 0/50 [00:00<?, ?it/s]"
      ]
     },
     "metadata": {},
     "output_type": "display_data"
    },
    {
     "data": {
      "application/vnd.jupyter.widget-view+json": {
       "model_id": "abbdc7be195a4a68b15fb0a253b3b41b",
       "version_major": 2,
       "version_minor": 0
      },
      "text/plain": [
       "days:   0%|          | 0/50 [00:00<?, ?it/s]"
      ]
     },
     "metadata": {},
     "output_type": "display_data"
    },
    {
     "data": {
      "application/vnd.jupyter.widget-view+json": {
       "model_id": "e86e380c026740f09e8f1aa98cfecc5e",
       "version_major": 2,
       "version_minor": 0
      },
      "text/plain": [
       "days:   0%|          | 0/50 [00:00<?, ?it/s]"
      ]
     },
     "metadata": {},
     "output_type": "display_data"
    },
    {
     "data": {
      "application/vnd.jupyter.widget-view+json": {
       "model_id": "1500c4ee19c04222b71da61813b78a83",
       "version_major": 2,
       "version_minor": 0
      },
      "text/plain": [
       "days:   0%|          | 0/50 [00:00<?, ?it/s]"
      ]
     },
     "metadata": {},
     "output_type": "display_data"
    },
    {
     "data": {
      "application/vnd.jupyter.widget-view+json": {
       "model_id": "32065da19846439aa924f76d790adb42",
       "version_major": 2,
       "version_minor": 0
      },
      "text/plain": [
       "days:   0%|          | 0/50 [00:00<?, ?it/s]"
      ]
     },
     "metadata": {},
     "output_type": "display_data"
    },
    {
     "data": {
      "application/vnd.jupyter.widget-view+json": {
       "model_id": "2e87e822914e4fe8bf68764e21e89d70",
       "version_major": 2,
       "version_minor": 0
      },
      "text/plain": [
       "days:   0%|          | 0/50 [00:00<?, ?it/s]"
      ]
     },
     "metadata": {},
     "output_type": "display_data"
    },
    {
     "data": {
      "application/vnd.jupyter.widget-view+json": {
       "model_id": "608db0f03dd34c53a3b6a68e3b95aa45",
       "version_major": 2,
       "version_minor": 0
      },
      "text/plain": [
       "days:   0%|          | 0/50 [00:00<?, ?it/s]"
      ]
     },
     "metadata": {},
     "output_type": "display_data"
    },
    {
     "data": {
      "application/vnd.jupyter.widget-view+json": {
       "model_id": "5094b242f4464eaea73ceca434f3c978",
       "version_major": 2,
       "version_minor": 0
      },
      "text/plain": [
       "days:   0%|          | 0/50 [00:00<?, ?it/s]"
      ]
     },
     "metadata": {},
     "output_type": "display_data"
    },
    {
     "data": {
      "application/vnd.jupyter.widget-view+json": {
       "model_id": "025e03b2fe16494a9bb1aeae5c6f8dcd",
       "version_major": 2,
       "version_minor": 0
      },
      "text/plain": [
       "days:   0%|          | 0/50 [00:00<?, ?it/s]"
      ]
     },
     "metadata": {},
     "output_type": "display_data"
    },
    {
     "data": {
      "application/vnd.jupyter.widget-view+json": {
       "model_id": "68acd85169ed4a6faf9f4733c35db245",
       "version_major": 2,
       "version_minor": 0
      },
      "text/plain": [
       "days:   0%|          | 0/50 [00:00<?, ?it/s]"
      ]
     },
     "metadata": {},
     "output_type": "display_data"
    },
    {
     "data": {
      "application/vnd.jupyter.widget-view+json": {
       "model_id": "8ee3a385fafa4b6aa36d6c12d8223a8b",
       "version_major": 2,
       "version_minor": 0
      },
      "text/plain": [
       "days:   0%|          | 0/50 [00:00<?, ?it/s]"
      ]
     },
     "metadata": {},
     "output_type": "display_data"
    },
    {
     "data": {
      "application/vnd.jupyter.widget-view+json": {
       "model_id": "ddcaf7dfe9a74eb29e0331e775b353aa",
       "version_major": 2,
       "version_minor": 0
      },
      "text/plain": [
       "days:   0%|          | 0/50 [00:00<?, ?it/s]"
      ]
     },
     "metadata": {},
     "output_type": "display_data"
    },
    {
     "data": {
      "application/vnd.jupyter.widget-view+json": {
       "model_id": "399feab91b8a4ae5a17d7ef8e5f0c002",
       "version_major": 2,
       "version_minor": 0
      },
      "text/plain": [
       "days:   0%|          | 0/50 [00:00<?, ?it/s]"
      ]
     },
     "metadata": {},
     "output_type": "display_data"
    },
    {
     "data": {
      "application/vnd.jupyter.widget-view+json": {
       "model_id": "b86432b3b8924697900a17e76275e4b9",
       "version_major": 2,
       "version_minor": 0
      },
      "text/plain": [
       "days:   0%|          | 0/50 [00:00<?, ?it/s]"
      ]
     },
     "metadata": {},
     "output_type": "display_data"
    },
    {
     "data": {
      "application/vnd.jupyter.widget-view+json": {
       "model_id": "69bcbe31e79641fdae1dc1754b252e2b",
       "version_major": 2,
       "version_minor": 0
      },
      "text/plain": [
       "days:   0%|          | 0/50 [00:00<?, ?it/s]"
      ]
     },
     "metadata": {},
     "output_type": "display_data"
    },
    {
     "data": {
      "application/vnd.jupyter.widget-view+json": {
       "model_id": "fa93ef410e9840a589c80b81748fdd35",
       "version_major": 2,
       "version_minor": 0
      },
      "text/plain": [
       "days:   0%|          | 0/50 [00:00<?, ?it/s]"
      ]
     },
     "metadata": {},
     "output_type": "display_data"
    },
    {
     "data": {
      "application/vnd.jupyter.widget-view+json": {
       "model_id": "dd0f40a03fd54d5fb3a4faa9082b4b06",
       "version_major": 2,
       "version_minor": 0
      },
      "text/plain": [
       "days:   0%|          | 0/50 [00:00<?, ?it/s]"
      ]
     },
     "metadata": {},
     "output_type": "display_data"
    },
    {
     "data": {
      "application/vnd.jupyter.widget-view+json": {
       "model_id": "42c93aaa99fd4399be880613830af939",
       "version_major": 2,
       "version_minor": 0
      },
      "text/plain": [
       "days:   0%|          | 0/50 [00:00<?, ?it/s]"
      ]
     },
     "metadata": {},
     "output_type": "display_data"
    }
   ],
   "source": [
    "ts_rewards = simulate_n(simulations, n_days)"
   ]
  },
  {
   "cell_type": "code",
   "execution_count": 15,
   "id": "4fafb84f",
   "metadata": {},
   "outputs": [
    {
     "data": {
      "image/png": "[encoded data removed]",
      "text/plain": [
       "<Figure size 1200x400 with 2 Axes>"
      ]
     },
     "metadata": {},
     "output_type": "display_data"
    }
   ],
   "source": [
    "plot_avg_experiments(n_days, \n",
    "    ts_rewards,\n",
    "    avg_clairvoyant_reward, \n",
    "    'GP-TS')"
   ]
  },
  {
   "cell_type": "code",
   "execution_count": 17,
   "id": "544eee9f",
   "metadata": {},
   "outputs": [
    {
     "name": "stdout",
     "output_type": "stream",
     "text": [
      "Graphless empiric regret over a 50 days horizon: 6626.400000000023\n"
     ]
    }
   ],
   "source": [
    "# Computing empiric regret\n",
    "avg = np.average(ts_rewards, axis=0)\n",
    "total_rew = np.sum(avg)\n",
    "empiric_regret = avg_clairvoyant_reward * n_days - total_rew\n",
    "\n",
    "print(f'Graphless empiric regret over a {n_days} days horizon: {empiric_regret}')"
   ]
  }
 ],
 "metadata": {
  "kernelspec": {
   "display_name": "Python 3 (ipykernel)",
   "language": "python",
   "name": "python3"
  },
  "language_info": {
   "codemirror_mode": {
    "name": "ipython",
    "version": 3
   },
   "file_extension": ".py",
   "mimetype": "text/x-python",
   "name": "python",
   "nbconvert_exporter": "python",
   "pygments_lexer": "ipython3",
   "version": "3.11.0"
  },
  "vscode": {
   "interpreter": {
    "hash": "8f459427a7f306a27b054354ab766a70c56e75824f1a81be2136169e4d668e21"
   }
  }
 },
 "nbformat": 4,
 "nbformat_minor": 5
}
