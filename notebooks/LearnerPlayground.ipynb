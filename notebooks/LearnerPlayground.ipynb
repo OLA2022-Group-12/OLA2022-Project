{
 "cells": [
  {
   "cell_type": "markdown",
   "id": "ae2163bd",
   "metadata": {},
   "source": [
    "# Learner Playground\n",
    "\n",
    "Notebook created with the intent of offering a handy environment to test out learners and simulations."
   ]
  },
  {
   "cell_type": "markdown",
   "id": "7213617d",
   "metadata": {},
   "source": [
    "#### Import statements\n",
    "Used to import local functions/modules or external libraries inside the notebook."
   ]
  },
  {
   "cell_type": "code",
   "execution_count": 1,
   "id": "3cd0f881",
   "metadata": {},
   "outputs": [],
   "source": [
    "from ola2022_project.environment.environment import example_environment, Step, UserClassParameters\n",
    "from ola2022_project.simulation.simulation import simulation \n",
    "from ola2022_project.learners import AlphalessLearner, AlphaUnitslessLearner\n",
    "\n",
    "import numpy as np\n",
    "import matplotlib.pyplot as plt\n",
    "import random"
   ]
  },
  {
   "cell_type": "code",
   "execution_count": 2,
   "id": "a84f77d8",
   "metadata": {},
   "outputs": [],
   "source": [
    "# Additional import statements"
   ]
  },
  {
   "cell_type": "markdown",
   "id": "df97459c",
   "metadata": {},
   "source": [
    "#### Plotting functions\n",
    "Functions used to plot data onto a graph for an immediate visualization and analysis."
   ]
  },
  {
   "cell_type": "code",
   "execution_count": 3,
   "id": "58cce3d6",
   "metadata": {},
   "outputs": [],
   "source": [
    "# Helper function that computes the means for n slices of a given dimension for an array\n",
    "def mean_slices(array, dim, n):\n",
    "    ret = []\n",
    "    for i in range(n):\n",
    "        ret.append(np.mean(array[i * dim : dim * (i + 1)]))\n",
    "    return ret\n",
    "\n",
    "# Plot colors\n",
    "colors = ['aqua', 'black', 'blue', 'blueviolet', 'burlywood', 'cadetblue', 'chocolate', \n",
    "          'coral', 'crimson', 'cyan', 'forestgreen', 'fuchsia', 'gold', 'green', 'hotpink', \n",
    "          'indigo', 'lime', 'magenta','navy', 'orange', 'purple', 'red', 'salmon', \n",
    "          'silver', 'teal', 'turquoise', 'violet']\n",
    "n_colors = len(colors)"
   ]
  },
  {
   "cell_type": "code",
   "execution_count": 4,
   "id": "d1e84832",
   "metadata": {},
   "outputs": [],
   "source": [
    "# Function used for quickly plotting multiple experiments onto a graph\n",
    "def plot_experiments_days(n_days, rewards, days_step=1, show_mean=True, \n",
    "                          cumulate=False, show_markers=True, names=None):\n",
    "    # Calculating and shaping data that is going to be shown on the graph\n",
    "    days = np.arange(1, n_days + 1, days_step)\n",
    "    n_exp = len(rewards)\n",
    "    new_n_days = len(days)\n",
    "    plot_rewards = np.array(list(map(lambda r: mean_slices(r, days_step, new_n_days), rewards)))\n",
    "    if(cumulate):\n",
    "        plot_rewards = np.array(list(map(lambda r: np.cumsum(r), plot_rewards)))\n",
    "    # Graphical tuning\n",
    "    marker = \".\" if show_markers else \"\"\n",
    "    plot_colors = \\\n",
    "            random.sample(colors, n_exp) if n_exp <= n_colors else random.choice(colors, n_exp)\n",
    "    plot_names = [\"Experiment {n}\" for i in range(len(plot_rewards))]\n",
    "    if names and len(names) >= len(plot_rewards):\n",
    "        plot_names = names\n",
    "    # Creating a new figure and plotting the data onto it\n",
    "    plt.figure()\n",
    "    for i, reward in enumerate(plot_rewards):\n",
    "        plt.plot(days, reward, label=plot_names[i].format(n=i+1), marker=marker, \n",
    "                 linestyle='-', color=plot_colors[i])\n",
    "        if(show_mean):\n",
    "            mean = [np.mean(plot_rewards[i])] * new_n_days\n",
    "            plt.plot(days, mean, label=\"Mean of \" + plot_names[i].format(n=i+1), \n",
    "                     linestyle='--', color=plot_colors[i])\n",
    "    # Setting labels and showing the figure\n",
    "    plt.xlabel(\"days\")\n",
    "    plt.ylabel(\"reward\")\n",
    "    plt.legend(loc = \"best\")\n",
    "    plt.show()"
   ]
  },
  {
   "cell_type": "code",
   "execution_count": 5,
   "id": "de969668",
   "metadata": {},
   "outputs": [],
   "source": [
    "# Additional plotting functions"
   ]
  },
  {
   "cell_type": "markdown",
   "id": "a253765c",
   "metadata": {},
   "source": [
    "#### Environment setup\n",
    "Create the environment reference with customizable parameters."
   ]
  },
  {
   "cell_type": "code",
   "execution_count": 6,
   "id": "13147ad4",
   "metadata": {},
   "outputs": [],
   "source": [
    "# Random Number Generator used as a source of randomness by the environment and the simulation\n",
    "rng = np.random.default_rng()\n",
    "\n",
    "# Environment separated default parameters\n",
    "env_classes_parameters = [\n",
    "    [\n",
    "        UserClassParameters(8, 0.06, 1, 160),\n",
    "        UserClassParameters(10, 0.06, 1, 150),\n",
    "        UserClassParameters(10, 0.07, 0.8, 160),\n",
    "        UserClassParameters(8, 0.03, 0.4, 120),\n",
    "        UserClassParameters(7, 0.06, 0.7, 150),\n",
    "        UserClassParameters(14, 0.08, 0.1, 180),\n",
    "    ],\n",
    "    [\n",
    "        UserClassParameters(25, 0.06, 1, 120),\n",
    "        UserClassParameters(22, 0.03, 0.4, 100),\n",
    "        UserClassParameters(20, 0.04, 0.5, 80),\n",
    "        UserClassParameters(16, 0.05, 0.4, 150),\n",
    "        UserClassParameters(24, 0.07, 0.3, 100),\n",
    "        UserClassParameters(20, 0.03, 0.1, 110),\n",
    "    ],\n",
    "    [\n",
    "        UserClassParameters(26, 0.03, 0.5, 120),\n",
    "        UserClassParameters(33, 0.08, 0.5, 260),\n",
    "        UserClassParameters(25, 0.07, 1.0, 280),\n",
    "        UserClassParameters(30, 0.06, 0.6, 250),\n",
    "        UserClassParameters(31, 0.03, 0.2, 290),\n",
    "        UserClassParameters(36, 0.07, 0.3, 260),\n",
    "    ],\n",
    "]"
   ]
  },
  {
   "cell_type": "code",
   "execution_count": 25,
   "id": "d90ebdaa",
   "metadata": {},
   "outputs": [],
   "source": [
    "# Creating the environment\n",
    "env = example_environment(\n",
    "    total_budget=300,\n",
    "    class_ratios=[0.3, 0.6, 0.1],\n",
    "    product_prices=[3, 15, 8, 22, 1],\n",
    "    classes_parameters=env_classes_parameters,\n",
    "    competitor_budget=100,\n",
    "    lam=0.5,\n",
    "    max_items=3,\n",
    "    graph_fully_connected=True,\n",
    "    graph_zeros_probability=0.5,\n",
    "    next_products=[(2, 3), (0, 2), (1, 4), (4, 1), (3, 0)],\n",
    ")"
   ]
  },
  {
   "cell_type": "code",
   "execution_count": 26,
   "id": "084fa9b2",
   "metadata": {},
   "outputs": [],
   "source": [
    "# Additional environment tuning"
   ]
  },
  {
   "cell_type": "markdown",
   "id": "d7bbe24d",
   "metadata": {},
   "source": [
    "#### Running the simulation\n",
    "Execute the simulation and collect the results."
   ]
  },
  {
   "cell_type": "code",
   "execution_count": 30,
   "id": "c3b99efe",
   "metadata": {},
   "outputs": [],
   "source": [
    "# Simulation separated default parameters\n",
    "sim_n_days=100"
   ]
  },
  {
   "cell_type": "code",
   "execution_count": 34,
   "id": "229205d5",
   "metadata": {
    "scrolled": true
   },
   "outputs": [
    {
     "data": {
      "application/json": {
       "ascii": false,
       "bar_format": null,
       "colour": null,
       "elapsed": 0.013281106948852539,
       "initial": 0,
       "n": 0,
       "ncols": null,
       "nrows": 26,
       "postfix": null,
       "prefix": "experiment",
       "rate": null,
       "total": 1,
       "unit": "it",
       "unit_divisor": 1000,
       "unit_scale": false
      },
      "application/vnd.jupyter.widget-view+json": {
       "model_id": "0264f48ce6cd46e186f97f3014913607",
       "version_major": 2,
       "version_minor": 0
      },
      "text/plain": [
       "experiment:   0%|          | 0/1 [00:00<?, ?it/s]"
      ]
     },
     "metadata": {},
     "output_type": "display_data"
    },
    {
     "data": {
      "application/json": {
       "ascii": false,
       "bar_format": null,
       "colour": null,
       "elapsed": 0.01642441749572754,
       "initial": 0,
       "n": 0,
       "ncols": null,
       "nrows": 26,
       "postfix": null,
       "prefix": "day",
       "rate": null,
       "total": 100,
       "unit": "it",
       "unit_divisor": 1000,
       "unit_scale": false
      },
      "application/vnd.jupyter.widget-view+json": {
       "model_id": "9308899ccb864d8fa20ac53932cfc5d8",
       "version_major": 2,
       "version_minor": 0
      },
      "text/plain": [
       "day:   0%|          | 0/100 [00:00<?, ?it/s]"
      ]
     },
     "metadata": {},
     "output_type": "display_data"
    }
   ],
   "source": [
    "# Running the simulation\n",
    "simulation_rewards = simulation(\n",
    "    rng,\n",
    "    env,\n",
    "    learner_factory=AlphalessLearner,\n",
    "    n_customers_mean=100,\n",
    "    n_customers_variance=5,\n",
    "    n_experiment=1,\n",
    "    n_days=sim_n_days,\n",
    "    n_budget_steps=20,\n",
    "    step=Step.ONE\n",
    ")"
   ]
  },
  {
   "cell_type": "code",
   "execution_count": 11,
   "id": "ef65f592",
   "metadata": {},
   "outputs": [],
   "source": [
    "# Additional execution code"
   ]
  },
  {
   "cell_type": "markdown",
   "id": "40de1c93",
   "metadata": {},
   "source": [
    "#### Plotting the results\n",
    "Once the simulation has been run, collect the results and display them nicely using plotting functions."
   ]
  },
  {
   "cell_type": "code",
   "execution_count": 35,
   "id": "01edeb73",
   "metadata": {},
   "outputs": [
    {
     "data": {
      "image/png": "[encoded data removed]",
      "text/plain": [
       "<Figure size 640x480 with 1 Axes>"
      ]
     },
     "metadata": {},
     "output_type": "display_data"
    }
   ],
   "source": [
    "# Plotting the experiment\n",
    "plot_experiments_days(sim_n_days, simulation_rewards, days_step=1, \n",
    "                      show_mean=True, cumulate=False, show_markers=True, \n",
    "                      names=[\"Experiment {n}\"])"
   ]
  },
  {
   "cell_type": "code",
   "execution_count": 13,
   "id": "cd1e9967",
   "metadata": {},
   "outputs": [],
   "source": [
    "# Additional plotting"
   ]
  }
 ],
 "metadata": {
  "kernelspec": {
   "display_name": "Python 3.10.6 64-bit",
   "language": "python",
   "name": "python3"
  },
  "language_info": {
   "codemirror_mode": {
    "name": "ipython",
    "version": 3
   },
   "file_extension": ".py",
   "mimetype": "text/x-python",
   "name": "python",
   "nbconvert_exporter": "python",
   "pygments_lexer": "ipython3",
   "version": "3.10.6"
  },
  "vscode": {
   "interpreter": {
    "hash": "e7370f93d1d0cde622a1f8e1c04877d8463912d04d973331ad4851f04de6915a"
   }
  }
 },
 "nbformat": 4,
 "nbformat_minor": 5
}
