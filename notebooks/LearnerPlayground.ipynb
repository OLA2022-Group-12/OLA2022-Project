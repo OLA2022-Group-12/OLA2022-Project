{
 "cells": [
  {
   "cell_type": "markdown",
   "id": "ae2163bd",
   "metadata": {},
   "source": [
    "# Learner Playground\n",
    "\n",
    "Notebook created with the intent of offering a handy environment to test out learners and simulations."
   ]
  },
  {
   "cell_type": "markdown",
   "id": "7213617d",
   "metadata": {},
   "source": [
    "#### Import statements\n",
    "Used to import local functions/modules or external libraries inside the notebook."
   ]
  },
  {
   "cell_type": "code",
   "execution_count": 1,
   "id": "3cd0f881",
   "metadata": {},
   "outputs": [],
   "source": [
    "from ola2022_project.environment.environment import example_environment, Step, UserClassParameters\n",
    "from ola2022_project.simulation.simulation import Simulation, create_n, simulate_n \n",
    "from ola2022_project.learners import *\n",
    "from ola2022_project.algorithms.multi_armed_bandits import Mab\n",
    "\n",
    "import numpy as np\n",
    "import matplotlib.pyplot as plt\n",
    "import random"
   ]
  },
  {
   "cell_type": "code",
   "execution_count": 2,
   "id": "a84f77d8",
   "metadata": {},
   "outputs": [],
   "source": [
    "# Additional import statements"
   ]
  },
  {
   "cell_type": "markdown",
   "id": "df97459c",
   "metadata": {},
   "source": [
    "#### Plotting functions\n",
    "Functions used to plot data onto a graph for an immediate visualization and analysis."
   ]
  },
  {
   "cell_type": "code",
   "execution_count": 3,
   "id": "58cce3d6",
   "metadata": {},
   "outputs": [],
   "source": [
    "# Helper function that computes the means for n slices of a given dimension for an array\n",
    "def mean_slices(array, dim, n):\n",
    "    ret = []\n",
    "    for i in range(n):\n",
    "        ret.append(np.mean(array[i * dim : dim * (i + 1)]))\n",
    "    return ret\n",
    "\n",
    "# Plot colors\n",
    "colors = ['aqua', 'black', 'blue', 'blueviolet', 'burlywood', 'cadetblue', 'chocolate', \n",
    "          'coral', 'crimson', 'cyan', 'forestgreen', 'fuchsia', 'gold', 'green', 'hotpink', \n",
    "          'indigo', 'lime', 'magenta','navy', 'orange', 'purple', 'red', 'salmon', \n",
    "          'silver', 'teal', 'turquoise', 'violet']\n",
    "n_colors = len(colors)"
   ]
  },
  {
   "cell_type": "code",
   "execution_count": 4,
   "id": "d1e84832",
   "metadata": {},
   "outputs": [],
   "source": [
    "# Function used for quickly plotting multiple experiments onto a graph\n",
    "def plot_experiments_days(n_days, rewards, days_step=1, show_mean=True, \n",
    "                          cumulate=False, show_markers=True, legend=True,\n",
    "                          names=None):\n",
    "    # Encapsulate the rewards in a list if the dimensionality is 1\n",
    "    plot_rewards = rewards\n",
    "    if np.ndim(rewards) == 1:\n",
    "        plot_rewards = [rewards]\n",
    "    # Calculating and shaping data that is going to be shown on the graph\n",
    "    days = np.arange(1, n_days + 1, days_step)\n",
    "    n_exp = len(plot_rewards)\n",
    "    new_n_days = len(days)\n",
    "    plot_rewards = \\\n",
    "            np.array(list(map(lambda r: mean_slices(r, days_step, new_n_days), plot_rewards)))\n",
    "    if(cumulate):\n",
    "        plot_rewards = np.array(list(map(lambda r: np.cumsum(r), plot_rewards)))\n",
    "    # Graphical tuning\n",
    "    marker = \".\" if show_markers else \"\"\n",
    "    plot_colors = \\\n",
    "            random.sample(colors, n_exp) if n_exp <= n_colors else random.choice(colors, n_exp)\n",
    "    plot_names = [\"Experiment {n}\" for i in range(len(plot_rewards))]\n",
    "    if names and len(names) >= len(plot_rewards):\n",
    "        plot_names = names\n",
    "    # Creating a new figure and plotting the data onto it\n",
    "    plt.figure()\n",
    "    for i, reward in enumerate(plot_rewards):\n",
    "        plt.plot(days, reward, label=plot_names[i].format(n=i+1), marker=marker, \n",
    "                 linestyle='-', color=plot_colors[i])\n",
    "        if(show_mean):\n",
    "            mean = [np.mean(plot_rewards[i])] * new_n_days\n",
    "            plt.plot(days, mean, label=\"Mean of \" + plot_names[i].format(n=i+1), \n",
    "                     linestyle='--', color=plot_colors[i])\n",
    "            \n",
    "    # Setting labels and showing the figure\n",
    "    plt.xlabel(\"days\")\n",
    "    plt.ylabel(\"reward\")\n",
    "    if legend:\n",
    "        plt.legend(loc = \"best\")\n",
    "        \n",
    "    plt.show()"
   ]
  },
  {
   "cell_type": "code",
   "execution_count": 5,
   "id": "de969668",
   "metadata": {},
   "outputs": [],
   "source": [
    "# Additional plotting functions"
   ]
  },
  {
   "cell_type": "markdown",
   "id": "a253765c",
   "metadata": {},
   "source": [
    "#### Environment setup\n",
    "Create the environment reference with customizable parameters."
   ]
  },
  {
   "cell_type": "code",
   "execution_count": 6,
   "id": "13147ad4",
   "metadata": {},
   "outputs": [],
   "source": [
    "# Random Number Generator used as a source of randomness by the environment and the simulation\n",
    "rng = np.random.default_rng(1337)\n",
    "\n",
    "# Environment separated default parameters\n",
    "env_classes_parameters=[\n",
    "        [\n",
    "            UserClassParameters(10, 0.2, 120),\n",
    "            UserClassParameters(10, 0.15, 120),\n",
    "            UserClassParameters(8, 0.5, 300),\n",
    "            UserClassParameters(7, 0.05, 220),\n",
    "            UserClassParameters(14, 0.15, 170),\n",
    "        ],\n",
    "        [\n",
    "            UserClassParameters(22, 0.5, 190),\n",
    "            UserClassParameters(20, 0.1, 210),\n",
    "            UserClassParameters(16, 0.25, 240),\n",
    "            UserClassParameters(24, 0.03, 80),\n",
    "            UserClassParameters(20, 0.05, 360),\n",
    "        ],\n",
    "        [\n",
    "            UserClassParameters(33, 0.4, 180),\n",
    "            UserClassParameters(25, 0.15, 210),\n",
    "            UserClassParameters(30, 0.35, 240),\n",
    "            UserClassParameters(31, 0.05, 300),\n",
    "            UserClassParameters(36, 0.05, 420),\n",
    "        ],\n",
    "    ]"
   ]
  },
  {
   "cell_type": "code",
   "execution_count": 7,
   "id": "d90ebdaa",
   "metadata": {},
   "outputs": [],
   "source": [
    "# Creating the environment\n",
    "env = example_environment(\n",
    "    rng=rng,\n",
    "    total_budget=400,\n",
    "    class_ratios=[0.3, 0.6, 0.1],\n",
    "    product_prices=[3, 15, 8, 22, 1],\n",
    "    classes_parameters=env_classes_parameters,\n",
    "    lam=0.5,\n",
    "    max_items=3,\n",
    "    graph_fully_connected=True,\n",
    "    graph_zeros_probability=0.5,\n",
    "    next_products=[(2, 3), (0, 2), (1, 4), (4, 1), (3, 0)],\n",
    "    random_noise=1e-3,\n",
    "    graph=np.array(\n",
    "        [\n",
    "            [0, 0, 0.7, 0.4, 0],\n",
    "            [0.3, 0, 0.8, 0, 0],\n",
    "            [0, 0.2, 0, 0, 0.2],\n",
    "            [0, 0.9, 0, 0, 0.8],\n",
    "            [0.05, 0, 0, 0.25, 0],\n",
    "        ]\n",
    "    ),\n",
    ")"
   ]
  },
  {
   "cell_type": "code",
   "execution_count": 8,
   "id": "084fa9b2",
   "metadata": {},
   "outputs": [],
   "source": [
    "# Additional environment tuning"
   ]
  },
  {
   "cell_type": "markdown",
   "id": "d7bbe24d",
   "metadata": {},
   "source": [
    "#### Running the simulation\n",
    "Execute the simulation and collect the results."
   ]
  },
  {
   "cell_type": "code",
   "execution_count": 9,
   "id": "c3b99efe",
   "metadata": {},
   "outputs": [],
   "source": [
    "# Simulation separated default parameters\n",
    "sim_n_days = 50\n",
    "sim_n_experiments = 2"
   ]
  },
  {
   "cell_type": "code",
   "execution_count": 10,
   "id": "229205d5",
   "metadata": {
    "scrolled": true
   },
   "outputs": [],
   "source": [
    "# Creating the simulation\n",
    "simulation = Simulation(\n",
    "    rng,\n",
    "    env,\n",
    "    step=Step.ONE,\n",
    "    n_budget_steps=20,\n",
    "    population_mean=1000,\n",
    "    population_variance=10,\n",
    "    mab_algorithm=Mab.GPTS,\n",
    ")"
   ]
  },
  {
   "cell_type": "code",
   "execution_count": 11,
   "id": "461d9ad1",
   "metadata": {},
   "outputs": [],
   "source": [
    "# Creating multiple simulations\n",
    "simulations = create_n(\n",
    "    rng,\n",
    "    env,\n",
    "    step=Step.ONE,\n",
    "    n=sim_n_experiments,\n",
    "    n_budget_steps=20,\n",
    "    population_mean=1000,\n",
    "    population_variance=10,\n",
    "    mab_algorithm=Mab.GPTS,\n",
    ")"
   ]
  },
  {
   "cell_type": "code",
   "execution_count": 12,
   "id": "b5d51b31",
   "metadata": {},
   "outputs": [
    {
     "data": {
      "application/json": {
       "ascii": false,
       "bar_format": null,
       "colour": null,
       "elapsed": 0.014097929000854492,
       "initial": 0,
       "n": 0,
       "ncols": null,
       "nrows": 28,
       "postfix": null,
       "prefix": "days",
       "rate": null,
       "total": 50,
       "unit": "it",
       "unit_divisor": 1000,
       "unit_scale": false
      },
      "application/vnd.jupyter.widget-view+json": {
       "model_id": "ac80d36fd262450aa088257292558bdc",
       "version_major": 2,
       "version_minor": 0
      },
      "text/plain": [
       "days:   0%|          | 0/50 [00:00<?, ?it/s]"
      ]
     },
     "metadata": {},
     "output_type": "display_data"
    },
    {
     "ename": "TypeError",
     "evalue": "'NoneType' object is not iterable",
     "output_type": "error",
     "traceback": [
      "\u001b[0;31m---------------------------------------------------------------------------\u001b[0m",
      "\u001b[0;31mTypeError\u001b[0m                                 Traceback (most recent call last)",
      "Input \u001b[0;32mIn [12]\u001b[0m, in \u001b[0;36m<cell line: 2>\u001b[0;34m()\u001b[0m\n\u001b[1;32m      1\u001b[0m \u001b[38;5;66;03m# Running the simulation\u001b[39;00m\n\u001b[0;32m----> 2\u001b[0m \u001b[43msimulation\u001b[49m\u001b[38;5;241;43m.\u001b[39;49m\u001b[43msimulate\u001b[49m\u001b[43m(\u001b[49m\u001b[43msim_n_days\u001b[49m\u001b[43m)\u001b[49m\n\u001b[1;32m      3\u001b[0m rewards \u001b[38;5;241m=\u001b[39m simulation\u001b[38;5;241m.\u001b[39mrewards\n",
      "File \u001b[0;32m~/Documents/Uni/OLA/OLA2022-Project/ola2022_project/simulation/simulation.py:175\u001b[0m, in \u001b[0;36mSimulation.simulate\u001b[0;34m(self, n_days, show_progress_graphs)\u001b[0m\n\u001b[1;32m    172\u001b[0m logger\u001b[38;5;241m.\u001b[39mdebug(\u001b[38;5;124mf\u001b[39m\u001b[38;5;124m\"\u001b[39m\u001b[38;5;124mInteractions: \u001b[39m\u001b[38;5;132;01m{\u001b[39;00minteractions\u001b[38;5;132;01m}\u001b[39;00m\u001b[38;5;124m\"\u001b[39m)\n\u001b[1;32m    174\u001b[0m \u001b[38;5;66;03m# Compute rewards from interactions\u001b[39;00m\n\u001b[0;32m--> 175\u001b[0m rewards \u001b[38;5;241m=\u001b[39m \u001b[43m_get_aggregated_reward_from_interactions\u001b[49m\u001b[43m(\u001b[49m\n\u001b[1;32m    176\u001b[0m \u001b[43m    \u001b[49m\u001b[38;5;28;43mself\u001b[39;49m\u001b[38;5;241;43m.\u001b[39;49m\u001b[43menv\u001b[49m\u001b[38;5;241;43m.\u001b[39;49m\u001b[43mproduct_prices\u001b[49m\u001b[43m,\u001b[49m\u001b[43m \u001b[49m\u001b[43minteractions\u001b[49m\n\u001b[1;32m    177\u001b[0m \u001b[43m\u001b[49m\u001b[43m)\u001b[49m\n\u001b[1;32m    178\u001b[0m \u001b[38;5;28mself\u001b[39m\u001b[38;5;241m.\u001b[39mrewards \u001b[38;5;241m=\u001b[39m np\u001b[38;5;241m.\u001b[39mappend(\u001b[38;5;28mself\u001b[39m\u001b[38;5;241m.\u001b[39mrewards, rewards)\n\u001b[1;32m    179\u001b[0m logger\u001b[38;5;241m.\u001b[39mdebug(\u001b[38;5;124mf\u001b[39m\u001b[38;5;124m\"\u001b[39m\u001b[38;5;124mRewards: \u001b[39m\u001b[38;5;132;01m{\u001b[39;00mrewards\u001b[38;5;132;01m}\u001b[39;00m\u001b[38;5;124m\"\u001b[39m)\n",
      "File \u001b[0;32m~/Documents/Uni/OLA/OLA2022-Project/ola2022_project/simulation/simulation.py:232\u001b[0m, in \u001b[0;36m_get_aggregated_reward_from_interactions\u001b[0;34m(product_prices, interactions)\u001b[0m\n\u001b[1;32m    214\u001b[0m \u001b[38;5;124;03m\"\"\"Computes the margin made each day, for each of the 3 classes of users.\u001b[39;00m\n\u001b[1;32m    215\u001b[0m \n\u001b[1;32m    216\u001b[0m \u001b[38;5;124;03mArguments:\u001b[39;00m\n\u001b[0;32m   (...)\u001b[0m\n\u001b[1;32m    227\u001b[0m \u001b[38;5;124;03m    An integer representing the total aggregated reward of the entire list of interactions.\u001b[39;00m\n\u001b[1;32m    228\u001b[0m \u001b[38;5;124;03m\"\"\"\u001b[39;00m\n\u001b[1;32m    230\u001b[0m \u001b[38;5;66;03m# Creates a list contaninig only the number of units every customer bought\u001b[39;00m\n\u001b[1;32m    231\u001b[0m \u001b[38;5;66;03m# for each product\u001b[39;00m\n\u001b[0;32m--> 232\u001b[0m units_sold \u001b[38;5;241m=\u001b[39m np\u001b[38;5;241m.\u001b[39marray([i\u001b[38;5;241m.\u001b[39mitems_bought \u001b[38;5;28;01mfor\u001b[39;00m i \u001b[38;5;129;01min\u001b[39;00m interactions])\n\u001b[1;32m    234\u001b[0m \u001b[38;5;66;03m# First with np.sum() we compute a single array containing how many units we\u001b[39;00m\n\u001b[1;32m    235\u001b[0m \u001b[38;5;66;03m# sold for every product. Then the units are multiplied element-wise by the\u001b[39;00m\n\u001b[1;32m    236\u001b[0m \u001b[38;5;66;03m# price of the corresponding product\u001b[39;00m\n\u001b[1;32m    237\u001b[0m reward_per_product \u001b[38;5;241m=\u001b[39m (\n\u001b[1;32m    238\u001b[0m     np\u001b[38;5;241m.\u001b[39msum(units_sold, axis\u001b[38;5;241m=\u001b[39m\u001b[38;5;241m0\u001b[39m) \u001b[38;5;241m*\u001b[39m product_prices\n\u001b[1;32m    239\u001b[0m     \u001b[38;5;28;01mif\u001b[39;00m \u001b[38;5;28mlen\u001b[39m(units_sold) \u001b[38;5;241m>\u001b[39m \u001b[38;5;241m0\u001b[39m\n\u001b[1;32m    240\u001b[0m     \u001b[38;5;28;01melse\u001b[39;00m np\u001b[38;5;241m.\u001b[39marray([])\n\u001b[1;32m    241\u001b[0m )\n",
      "\u001b[0;31mTypeError\u001b[0m: 'NoneType' object is not iterable"
     ]
    }
   ],
   "source": [
    "# Running the simulation\n",
    "simulation.simulate(sim_n_days)\n",
    "rewards = simulation.rewards"
   ]
  },
  {
   "cell_type": "code",
   "execution_count": null,
   "id": "bdaacd4b",
   "metadata": {},
   "outputs": [],
   "source": [
    "# Running multiple simulations\n",
    "# rewards = simulate_n(simulations, sim_n_days)"
   ]
  },
  {
   "cell_type": "code",
   "execution_count": null,
   "id": "ef65f592",
   "metadata": {},
   "outputs": [],
   "source": [
    "# Additional execution code"
   ]
  },
  {
   "cell_type": "markdown",
   "id": "40de1c93",
   "metadata": {},
   "source": [
    "#### Plotting the results\n",
    "Once the simulation has been run, collect the results and display them nicely using plotting functions."
   ]
  },
  {
   "cell_type": "code",
   "execution_count": null,
   "id": "01edeb73",
   "metadata": {
    "scrolled": true
   },
   "outputs": [],
   "source": [
    "# Plotting the experiment\n",
    "plot_experiments_days(sim_n_days, rewards, days_step=1, \n",
    "                      show_mean=True, cumulate=False, show_markers=True, \n",
    "                      legend=True, names=[\"Experiment {n}\"])"
   ]
  },
  {
   "cell_type": "code",
   "execution_count": null,
   "id": "93658a3c",
   "metadata": {},
   "outputs": [],
   "source": [
    "# Additional plotting"
   ]
  }
 ],
 "metadata": {
  "kernelspec": {
   "display_name": "Python 3 (ipykernel)",
   "language": "python",
   "name": "python3"
  },
  "language_info": {
   "codemirror_mode": {
    "name": "ipython",
    "version": 3
   },
   "file_extension": ".py",
   "mimetype": "text/x-python",
   "name": "python",
   "nbconvert_exporter": "python",
   "pygments_lexer": "ipython3",
   "version": "3.10.7"
  },
  "vscode": {
   "interpreter": {
    "hash": "e7370f93d1d0cde622a1f8e1c04877d8463912d04d973331ad4851f04de6915a"
   }
  }
 },
 "nbformat": 4,
 "nbformat_minor": 5
}
