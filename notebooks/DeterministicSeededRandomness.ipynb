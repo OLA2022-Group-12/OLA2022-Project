{
 "cells": [
  {
   "cell_type": "markdown",
   "id": "27998283",
   "metadata": {},
   "source": [
    "# Determinism while using seeded randomness\n",
    "\n",
    "As a part of comparing the different learners and algorithms, we have to consider the randomness in the environment. While working with randomness, it's important to consider that unlikely things do still happen! Hence even though there might be determinism in the form of a random number generator always generating the same values across different iterations, that doesn't mean it is necessarily mean it's deterministic across it's parameters. Below follows two examples, where one is deterministic across its arguments while the latter doesn't seem to be.\n",
    "\n",
    "NB! It's important to notice how the random number generator is seeded/reset in the following examples, as we are running the exact same calls to randomness with the same random state, however the arguments to the randomness might be different."
   ]
  },
  {
   "cell_type": "code",
   "execution_count": 1,
   "id": "12fba20b",
   "metadata": {},
   "outputs": [],
   "source": [
    "import numpy as np\n",
    "\n",
    "n_experiments = 10000\n",
    "n_seeds = 10\n",
    "n_total = n_experiments * n_seeds\n",
    "\n",
    "click_ratios_1 = np.array([0.3, 0.7])\n",
    "click_ratios_2 = np.array([0.7, 0.3])"
   ]
  },
  {
   "cell_type": "markdown",
   "id": "97f8dd47",
   "metadata": {},
   "source": [
    "## Deterministic across arguments\n",
    "\n",
    "In the example below, we can see that the randomness will always affect the generation in a deterministic way, in the sense that if the ratios are different, they will all be influence \"equally\" by the randomness. I.e. if a ratio gets bigger, it will get bigger in the end aswell. By running this experiment, we can see that it will never fail."
   ]
  },
  {
   "cell_type": "code",
   "execution_count": 2,
   "id": "e7bf3983",
   "metadata": {},
   "outputs": [
    {
     "name": "stdout",
     "output_type": "stream",
     "text": [
      "Fraction got smaller in 0.00% of the experiments!!\n"
     ]
    }
   ],
   "source": [
    "def gen_fractions(rng, ratios):\n",
    "    weight = rng.uniform(low=0.0, high=10.0)\n",
    "    \n",
    "    x = np.exp(ratios + weight)\n",
    "    return x / np.sum(x)\n",
    "\n",
    "n_failed_determ = 0\n",
    "\n",
    "for seed in range(n_seeds):\n",
    "    rng = np.random.default_rng(seed)\n",
    "    for i in range(n_experiments):\n",
    "        rng_state = rng.bit_generator.state\n",
    "        fractions_1 = gen_fractions(rng, click_ratios_1)\n",
    "\n",
    "        rng.bit_generator.state = rng_state\n",
    "        fractions_2 = gen_fractions(rng, click_ratios_2)\n",
    "        \n",
    "        if fractions_2[0] < fractions_1[0]:\n",
    "            # Even though the click ratio for the first \n",
    "            # element increased, the fraction still got smaller.\n",
    "            n_failed_determ = n_failed_determ + 1\n",
    "\n",
    "print(f\"Fraction got smaller in {100 * (float(n_failed_determ) / n_total):.2f}% of the experiments!!\")"
   ]
  },
  {
   "cell_type": "markdown",
   "id": "94a5a598",
   "metadata": {},
   "source": [
    "## Non-deterministic across arguments\n",
    "\n",
    "In this example however, we end up seeing failures due to the fact that the function `dirichlet` from numpy is not deterministic across its parameters. Hence, despite the click ratio increasing, that doesn't necessarily mean that the sampled fraction is greater (even for the exact same random state/seed). It's also worth noting, that even though it might rarely happen in some cases, it would still happen!"
   ]
  },
  {
   "cell_type": "code",
   "execution_count": 3,
   "id": "85ed445c",
   "metadata": {},
   "outputs": [
    {
     "name": "stdout",
     "output_type": "stream",
     "text": [
      "Fraction got smaller in 2.27% of the experiments!!\n"
     ]
    }
   ],
   "source": [
    "n_failed_dirich = 0\n",
    "\n",
    "for seed in range(n_seeds):\n",
    "    rng = np.random.default_rng(seed)\n",
    "    for i in range(n_experiments):\n",
    "        rng_state = rng.bit_generator.state\n",
    "        fractions_1 = rng.dirichlet(click_ratios_1)\n",
    "\n",
    "        rng.bit_generator.state = rng_state\n",
    "        fractions_2 = rng.dirichlet(click_ratios_2)\n",
    "\n",
    "        if fractions_2[0] < fractions_1[0]:\n",
    "            # Even though the click ratio for the first \n",
    "            # element increased, the fraction still got smaller.\n",
    "            # If dirichlet was deterministic across it's \n",
    "            # arguments, this wouldn't happen at all!!\n",
    "            n_failed_dirich = n_failed_dirich + 1\n",
    "\n",
    "print(f\"Fraction got smaller in {100 * (float(n_failed_dirich) / n_total):.2f}% of the experiments!!\")"
   ]
  }
 ],
 "metadata": {
  "kernelspec": {
   "display_name": "Python 3 (ipykernel)",
   "language": "python",
   "name": "python3"
  },
  "language_info": {
   "codemirror_mode": {
    "name": "ipython",
    "version": 3
   },
   "file_extension": ".py",
   "mimetype": "text/x-python",
   "name": "python",
   "nbconvert_exporter": "python",
   "pygments_lexer": "ipython3",
   "version": "3.10.4"
  }
 },
 "nbformat": 4,
 "nbformat_minor": 5
}
