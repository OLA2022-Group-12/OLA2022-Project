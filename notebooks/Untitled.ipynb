{
 "cells": [
  {
   "cell_type": "code",
   "execution_count": 1,
   "id": "72ce9615",
   "metadata": {},
   "outputs": [
    {
     "data": {
      "text/plain": [
       "[0.8781019003471183,\n",
       " 0.18552796163759344,\n",
       " 0.9209004548704729,\n",
       " 0.9465658637675279,\n",
       " 0.8745080903846549,\n",
       " 0.11574276291338936,\n",
       " 0.19373166236555261,\n",
       " 0.3417371975176514,\n",
       " 0.4957909002612719,\n",
       " 0.898371232805062,\n",
       " 0.0064586191995230635,\n",
       " 0.22741146700502113,\n",
       " 0.7936549524061071,\n",
       " 0.41428671780611115,\n",
       " 0.08381440312009591,\n",
       " 0.39209563559072746,\n",
       " 0.33957122673033147,\n",
       " 0.022302466737622262,\n",
       " 0.8904383159378265,\n",
       " 0.023869682675837334]"
      ]
     },
     "execution_count": 1,
     "metadata": {},
     "output_type": "execute_result"
    }
   ],
   "source": [
    "import numpy as np\n",
    "rng = np.random.default_rng(1337)\n",
    "a = []\n",
    "for _ in range(20):\n",
    "    a.append(rng.random())\n",
    "    \n",
    "a"
   ]
  },
  {
   "cell_type": "code",
   "execution_count": null,
   "id": "63878e67",
   "metadata": {},
   "outputs": [],
   "source": []
  },
  {
   "cell_type": "code",
   "execution_count": null,
   "id": "5aeecd19",
   "metadata": {},
   "outputs": [],
   "source": []
  }
 ],
 "metadata": {
  "kernelspec": {
   "display_name": "Python 3 (ipykernel)",
   "language": "python",
   "name": "python3"
  },
  "language_info": {
   "codemirror_mode": {
    "name": "ipython",
    "version": 3
   },
   "file_extension": ".py",
   "mimetype": "text/x-python",
   "name": "python",
   "nbconvert_exporter": "python",
   "pygments_lexer": "ipython3",
   "version": "3.10.7"
  }
 },
 "nbformat": 4,
 "nbformat_minor": 5
}
