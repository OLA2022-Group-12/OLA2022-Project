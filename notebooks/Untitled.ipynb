{
 "cells": [
  {
   "cell_type": "code",
   "execution_count": 1,
   "id": "37a3e97e",
   "metadata": {},
   "outputs": [],
   "source": [
    "from ola2022_project.environment.environment import get_day_of_interactions, example_environment\n",
    "import numpy as np"
   ]
  },
  {
   "cell_type": "code",
   "execution_count": 2,
   "id": "b2e2a923",
   "metadata": {},
   "outputs": [],
   "source": [
    "env = example_environment(random_noise=0)"
   ]
  },
  {
   "cell_type": "code",
   "execution_count": 3,
   "id": "849fa89e",
   "metadata": {},
   "outputs": [
    {
     "name": "stdout",
     "output_type": "stream",
     "text": [
      "--------------------------\n",
      "PATH: []\n",
      "PROD: 0\n",
      "Slot1\n",
      "Path pre function: [(0, 2)]\n",
      "--------------------------\n",
      "PATH: [(0, 2)]\n",
      "PROD: 2\n",
      "Slot1\n",
      "Path pre function: [(0, 2), (2, 1)]\n",
      "--------------------------\n",
      "PATH: [(0, 2), (2, 1)]\n",
      "PROD: 1\n",
      "Slot2\n",
      "Path pre function: [(0, 2), (2, 4)]\n",
      "--------------------------\n",
      "PATH: [(0, 2), (2, 4)]\n",
      "PROD: 4\n",
      "Slot1\n",
      "Path pre function: [(0, 2), (2, 4), (4, 3)]\n",
      "--------------------------\n",
      "PATH: [(0, 2), (2, 4), (4, 3)]\n",
      "PROD: 3\n",
      "Slot2\n",
      "Path pre function: [(0, 3)]\n",
      "--------------------------\n",
      "PATH: [(0, 3)]\n",
      "PROD: 3\n"
     ]
    },
    {
     "data": {
      "text/plain": [
       "[InteractionBlueprint(user_class=0, landed_on=0, n_users=17.0, products=array([1., 0., 1., 0., 0.]), path=[(0, 2), (2, 1)]),\n",
       " InteractionBlueprint(user_class=0, landed_on=0, n_users=2.0, products=array([1., 0., 1., 0., 1.]), path=[(0, 2), (2, 4), (4, 3)]),\n",
       " InteractionBlueprint(user_class=0, landed_on=0, n_users=5.0, products=array([1., 0., 1., 0., 1.]), path=[(0, 2), (2, 4)]),\n",
       " InteractionBlueprint(user_class=0, landed_on=0, n_users=60.0, products=array([1., 0., 1., 0., 0.]), path=[(0, 2)]),\n",
       " InteractionBlueprint(user_class=0, landed_on=0, n_users=7.0, products=array([1., 0., 0., 0., 0.]), path=[(0, 3)]),\n",
       " InteractionBlueprint(user_class=0, landed_on=0, n_users=29.0, products=array([1., 0., 0., 0., 0.]), path=[])]"
      ]
     },
     "execution_count": 3,
     "metadata": {},
     "output_type": "execute_result"
    }
   ],
   "source": [
    "get_day_of_interactions(np.random.default_rng(), 10000, [20,20,20,20,20], env, de_noise=1e6)"
   ]
  },
  {
   "cell_type": "code",
   "execution_count": null,
   "id": "a7e00435",
   "metadata": {},
   "outputs": [],
   "source": []
  },
  {
   "cell_type": "code",
   "execution_count": null,
   "id": "50f914d4",
   "metadata": {},
   "outputs": [],
   "source": []
  }
 ],
 "metadata": {
  "kernelspec": {
   "display_name": "Python 3 (ipykernel)",
   "language": "python",
   "name": "python3"
  },
  "language_info": {
   "codemirror_mode": {
    "name": "ipython",
    "version": 3
   },
   "file_extension": ".py",
   "mimetype": "text/x-python",
   "name": "python",
   "nbconvert_exporter": "python",
   "pygments_lexer": "ipython3",
   "version": "3.10.7"
  }
 },
 "nbformat": 4,
 "nbformat_minor": 5
}
