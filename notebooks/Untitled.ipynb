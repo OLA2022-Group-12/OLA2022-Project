{
 "cells": [
  {
   "cell_type": "code",
   "execution_count": 1,
   "id": "37a3e97e",
   "metadata": {},
   "outputs": [],
   "source": [
    "from ola2022_project.environment.environment import get_day_of_interactions, example_environment\n",
    "import numpy as np"
   ]
  },
  {
   "cell_type": "code",
   "execution_count": 2,
   "id": "b2e2a923",
   "metadata": {},
   "outputs": [],
   "source": [
    "env = example_environment()\n",
    "a = get_day_of_interactions(np.random.default_rng(), 1000, [70,30,50,40,0], env, deterministic=True)\n",
    "foo = [[elem.items_bought for elem in a if elem.landed_on == i] for i in range(5)]"
   ]
  },
  {
   "cell_type": "code",
   "execution_count": 3,
   "id": "849fa89e",
   "metadata": {},
   "outputs": [
    {
     "data": {
      "text/plain": [
       "([array([164,  19, 114,  10,  16]),\n",
       "  array([ 4, 13,  7,  0,  0]),\n",
       "  array([ 3,  9, 74,  1,  6]),\n",
       "  array([ 0,  1,  0, 10,  8]),\n",
       "  0.0],\n",
       " [164, 26, 74, 13, 0])"
      ]
     },
     "execution_count": 3,
     "metadata": {},
     "output_type": "execute_result"
    }
   ],
   "source": [
    "e = []\n",
    "f = []\n",
    "for items in foo:\n",
    "    e.append(np.sum(items, axis=0))\n",
    "    f.append(len(items))\n",
    "    \n",
    "e, f"
   ]
  },
  {
   "cell_type": "code",
   "execution_count": 4,
   "id": "a7e00435",
   "metadata": {},
   "outputs": [
    {
     "ename": "TypeError",
     "evalue": "can't multiply sequence by non-int of type 'numpy.float64'",
     "output_type": "error",
     "traceback": [
      "\u001b[0;31m---------------------------------------------------------------------------\u001b[0m",
      "\u001b[0;31mTypeError\u001b[0m                                 Traceback (most recent call last)",
      "Input \u001b[0;32mIn [4]\u001b[0m, in \u001b[0;36m<cell line: 2>\u001b[0;34m()\u001b[0m\n\u001b[1;32m      1\u001b[0m multipliers \u001b[38;5;241m=\u001b[39m []\n\u001b[1;32m      2\u001b[0m \u001b[38;5;28;01mfor\u001b[39;00m rew, n \u001b[38;5;129;01min\u001b[39;00m \u001b[38;5;28mzip\u001b[39m(e,f):\n\u001b[0;32m----> 3\u001b[0m     multipliers\u001b[38;5;241m.\u001b[39mappend(np\u001b[38;5;241m.\u001b[39msum(\u001b[43mrew\u001b[49m\u001b[38;5;241;43m*\u001b[39;49m\u001b[43menv\u001b[49m\u001b[38;5;241;43m.\u001b[39;49m\u001b[43mproduct_prices\u001b[49m, axis\u001b[38;5;241m=\u001b[39m\u001b[38;5;241m0\u001b[39m)\u001b[38;5;241m/\u001b[39mn)\n\u001b[1;32m      4\u001b[0m multipliers\n",
      "\u001b[0;31mTypeError\u001b[0m: can't multiply sequence by non-int of type 'numpy.float64'"
     ]
    }
   ],
   "source": [
    "multipliers = []\n",
    "for rew, n in zip(e,f):\n",
    "    multipliers.append(np.sum(rew*env.product_prices, axis=0)/n)\n",
    "multipliers"
   ]
  },
  {
   "cell_type": "code",
   "execution_count": 5,
   "id": "50f914d4",
   "metadata": {},
   "outputs": [],
   "source": [
    "from ola2022_project.algorithms.reward_estimator import compute_reward_multiplier, find_optimal_arms"
   ]
  },
  {
   "cell_type": "code",
   "execution_count": 17,
   "id": "e44b2f81",
   "metadata": {},
   "outputs": [
    {
     "data": {
      "text/plain": [
       "array([6, 4, 7, 2, 0])"
      ]
     },
     "execution_count": 17,
     "metadata": {},
     "output_type": "execute_result"
    }
   ],
   "source": [
    "find_optimal_arms(env, np.linspace(0,400,20), 1000)"
   ]
  },
  {
   "cell_type": "code",
   "execution_count": 24,
   "id": "094e56e5",
   "metadata": {},
   "outputs": [],
   "source": [
    "a = get_day_of_interactions(np.random.default_rng(), 1000, [80,80,80,80,80], env, deterministic=True)"
   ]
  },
  {
   "cell_type": "code",
   "execution_count": 25,
   "id": "d1b6d3e9",
   "metadata": {},
   "outputs": [
    {
     "data": {
      "text/plain": [
       "array([[1, 0, 1, 0, 0],\n",
       "       [1, 0, 1, 0, 0],\n",
       "       [1, 0, 1, 0, 0],\n",
       "       ...,\n",
       "       [0, 0, 1, 0, 0],\n",
       "       [0, 0, 0, 1, 1],\n",
       "       [0, 0, 0, 0, 1]])"
      ]
     },
     "execution_count": 25,
     "metadata": {},
     "output_type": "execute_result"
    }
   ],
   "source": [
    "rew = [e.items_bought for e in a]\n",
    "rew = np.array(rew)\n",
    "rew"
   ]
  },
  {
   "cell_type": "code",
   "execution_count": 27,
   "id": "f90a13a5",
   "metadata": {},
   "outputs": [
    {
     "data": {
      "text/plain": [
       "8718.0"
      ]
     },
     "execution_count": 27,
     "metadata": {},
     "output_type": "execute_result"
    }
   ],
   "source": [
    "np.sum(np.sum(rew, axis=0) * env.product_prices) * np.mean([1,3])"
   ]
  },
  {
   "cell_type": "code",
   "execution_count": null,
   "id": "343309a3",
   "metadata": {},
   "outputs": [],
   "source": []
  },
  {
   "cell_type": "code",
   "execution_count": null,
   "id": "782ce350",
   "metadata": {},
   "outputs": [],
   "source": []
  }
 ],
 "metadata": {
  "kernelspec": {
   "display_name": "Python 3 (ipykernel)",
   "language": "python",
   "name": "python3"
  },
  "language_info": {
   "codemirror_mode": {
    "name": "ipython",
    "version": 3
   },
   "file_extension": ".py",
   "mimetype": "text/x-python",
   "name": "python",
   "nbconvert_exporter": "python",
   "pygments_lexer": "ipython3",
   "version": "3.10.7"
  }
 },
 "nbformat": 4,
 "nbformat_minor": 5
}
