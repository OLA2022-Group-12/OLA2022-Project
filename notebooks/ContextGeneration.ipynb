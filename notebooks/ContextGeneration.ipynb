{
 "cells": [
  {
   "cell_type": "markdown",
   "id": "ae2163bd",
   "metadata": {},
   "source": [
    "# Context Generation\n",
    "Notebook used to showcase and experiment on context generation and contextual learners"
   ]
  },
  {
   "cell_type": "markdown",
   "id": "7213617d",
   "metadata": {},
   "source": [
    "#### Import statements\n",
    "Used to import local functions/modules or external libraries inside the notebook."
   ]
  },
  {
   "cell_type": "code",
   "execution_count": 1,
   "id": "3cd0f881",
   "metadata": {},
   "outputs": [],
   "source": [
    "from ola2022_project.environment.environment import example_environment, Feature, Step, UserClassParameters\n",
    "from ola2022_project.simulation.simulation import Simulation, create_n\n",
    "from ola2022_project.learners import AlphalessLearner\n",
    "from ola2022_project.algorithms.context_splitting import Context, tree_generation\n",
    "from ola2022_project.algorithms.multi_armed_bandits import Mab\n",
    "from ola2022_project.algorithms.reward_estimator import clairvoyant_reward\n",
    "\n",
    "import numpy as np\n",
    "import matplotlib.pyplot as plt\n",
    "import random\n",
    "import logging\n",
    "import sys\n",
    "\n",
    "logger = logging.getLogger()\n",
    "#logger.setLevel(logging.DEBUG)\n",
    "logger.addHandler(logging.StreamHandler(stream=sys.stdout))"
   ]
  },
  {
   "cell_type": "markdown",
   "id": "df97459c",
   "metadata": {},
   "source": [
    "#### Plotting functions\n",
    "Functions used to plot data onto a graph for an immediate visualization and analysis."
   ]
  },
  {
   "cell_type": "code",
   "execution_count": 2,
   "id": "58cce3d6",
   "metadata": {},
   "outputs": [],
   "source": [
    "# Helper function that computes the means for n slices of a given dimension for an array\n",
    "def mean_slices(array, dim, n):\n",
    "    ret = []\n",
    "    for i in range(n):\n",
    "        ret.append(np.mean(array[i * dim : dim * (i + 1)]))\n",
    "    return ret\n",
    "\n",
    "# Plot colors\n",
    "colors = ['aqua', 'black', 'blue', 'blueviolet', 'burlywood', 'cadetblue', 'chocolate', \n",
    "          'coral', 'crimson', 'cyan', 'forestgreen', 'fuchsia', 'gold', 'green', 'hotpink', \n",
    "          'indigo', 'lime', 'magenta','navy', 'orange', 'purple', 'red', 'salmon', \n",
    "          'silver', 'teal', 'turquoise', 'violet']\n",
    "n_colors = len(colors)"
   ]
  },
  {
   "cell_type": "code",
   "execution_count": 3,
   "id": "d1e84832",
   "metadata": {},
   "outputs": [],
   "source": [
    "# Function used for quickly plotting multiple experiments onto a graph\n",
    "def plot_experiments_days(n_days, rewards, days_step=1, show_mean=True, \n",
    "                          cumulate=False, show_markers=True, legend=True,\n",
    "                          names=None):\n",
    "    # Encapsulate the rewards in a list if the dimensionality is 1\n",
    "    plot_rewards = rewards\n",
    "    if np.ndim(rewards) == 1:\n",
    "        plot_rewards = [rewards]\n",
    "    # Calculating and shaping data that is going to be shown on the graph\n",
    "    days = np.arange(1, n_days + 1, days_step)\n",
    "    n_exp = len(plot_rewards)\n",
    "    new_n_days = len(days)\n",
    "    plot_rewards = \\\n",
    "            np.array(list(map(lambda r: mean_slices(r, days_step, new_n_days), plot_rewards)))\n",
    "    if(cumulate):\n",
    "        plot_rewards = np.array(list(map(lambda r: np.cumsum(r), plot_rewards)))\n",
    "    # Graphical tuning\n",
    "    marker = \".\" if show_markers else \"\"\n",
    "    plot_colors = \\\n",
    "            random.sample(colors, n_exp) if n_exp <= n_colors else random.choice(colors, n_exp)\n",
    "    plot_names = [\"Experiment {n}\" for i in range(len(plot_rewards))]\n",
    "    if names and len(names) >= len(plot_rewards):\n",
    "        plot_names = names\n",
    "    # Creating a new figure and plotting the data onto it\n",
    "    plt.figure()\n",
    "    for i, reward in enumerate(plot_rewards):\n",
    "        plt.plot(days, reward, label=plot_names[i].format(n=i+1), marker=marker, \n",
    "                 linestyle='-', color=plot_colors[i])\n",
    "        if(show_mean):\n",
    "            mean = [np.mean(plot_rewards[i])] * new_n_days\n",
    "            plt.plot(days, mean, label=\"Mean of \" + plot_names[i].format(n=i+1), \n",
    "                     linestyle='--', color=plot_colors[i])\n",
    "    # Setting labels and showing the figure\n",
    "    plt.xlabel(\"days\")\n",
    "    plt.ylabel(\"reward\")\n",
    "    if legend:\n",
    "        plt.legend(loc = \"best\")\n",
    "    plt.show()"
   ]
  },
  {
   "cell_type": "markdown",
   "id": "a253765c",
   "metadata": {},
   "source": [
    "#### Environment setup\n",
    "Create the environment reference with customizable parameters."
   ]
  },
  {
   "cell_type": "code",
   "execution_count": 4,
   "id": "13147ad4",
   "metadata": {},
   "outputs": [],
   "source": [
    "# Random Number Generator used as a source of randomness by the environment and the simulation\n",
    "rng = np.random.default_rng(1337)\n",
    "\n",
    "# Environment separated default parameters\n",
    "env_classes_parameters=[\n",
    "        [\n",
    "            UserClassParameters(10, 0.2, 120),\n",
    "            UserClassParameters(10, 0.15, 120),\n",
    "            UserClassParameters(8, 0.5, 300),\n",
    "            UserClassParameters(7, 0.05, 220),\n",
    "            UserClassParameters(14, 0.15, 170),\n",
    "        ],\n",
    "        [\n",
    "            UserClassParameters(22, 0.5, 190),\n",
    "            UserClassParameters(20, 0.1, 210),\n",
    "            UserClassParameters(16, 0.25, 240),\n",
    "            UserClassParameters(24, 0.03, 80),\n",
    "            UserClassParameters(20, 0.05, 360),\n",
    "        ],\n",
    "        [\n",
    "            UserClassParameters(33, 0.4, 180),\n",
    "            UserClassParameters(25, 0.15, 210),\n",
    "            UserClassParameters(30, 0.35, 240),\n",
    "            UserClassParameters(31, 0.05, 300),\n",
    "            UserClassParameters(36, 0.05, 420),\n",
    "        ],\n",
    "    ]"
   ]
  },
  {
   "cell_type": "code",
   "execution_count": 5,
   "id": "d90ebdaa",
   "metadata": {},
   "outputs": [],
   "source": [
    "# Creating the environment\n",
    "env = example_environment(\n",
    "    total_budget=400,\n",
    "    class_ratios=[0.3, 0.6, 0.1],\n",
    "    product_prices=[3, 15, 8, 22, 1],\n",
    "    classes_parameters=env_classes_parameters,\n",
    "    lam=0.5,\n",
    "    max_items=3,\n",
    "    graph_fully_connected=True,\n",
    "    graph_zeros_probability=0.5,\n",
    "    next_products=[(2, 3), (0, 2), (1, 4), (4, 1), (3, 0)],\n",
    "    random_noise=1e-3,\n",
    "    graph=np.array(\n",
    "        [\n",
    "            [0, 0, 0.7, 0.4, 0],\n",
    "            [0.3, 0, 0.8, 0, 0],\n",
    "            [0, 0.2, 0, 0, 0.2],\n",
    "            [0, 0.9, 0, 0, 0.8],\n",
    "            [0.05, 0, 0, 0.25, 0],\n",
    "        ]\n",
    "    ),\n",
    ")"
   ]
  },
  {
   "cell_type": "markdown",
   "id": "d7bbe24d",
   "metadata": {},
   "source": [
    "#### Running the simulation\n",
    "Execute the simulation and collect the results."
   ]
  },
  {
   "cell_type": "code",
   "execution_count": 6,
   "id": "c3b99efe",
   "metadata": {},
   "outputs": [],
   "source": [
    "# Simulation separated default parameters\n",
    "sim_n_days=7"
   ]
  },
  {
   "cell_type": "code",
   "execution_count": 7,
   "id": "229205d5",
   "metadata": {},
   "outputs": [],
   "source": [
    "# Creating the simulation\n",
    "simulation = Simulation(\n",
    "    rng,\n",
    "    env,\n",
    "    step=Step.FIVE,\n",
    "    n_budget_steps=20,\n",
    "    population_mean=1000,\n",
    "    population_variance=10,\n",
    "    features=[Feature(\"feature_1\", None), Feature(\"feature_2\", None)],\n",
    "    mab_algorithm=Mab.GPTS,\n",
    ")"
   ]
  },
  {
   "cell_type": "code",
   "execution_count": 8,
   "id": "85965d81",
   "metadata": {},
   "outputs": [
    {
     "data": {
      "application/json": {
       "ascii": false,
       "bar_format": null,
       "colour": null,
       "elapsed": 0.03445792198181152,
       "initial": 0,
       "n": 0,
       "ncols": null,
       "nrows": 15,
       "postfix": null,
       "prefix": "days",
       "rate": null,
       "total": 7,
       "unit": "it",
       "unit_divisor": 1000,
       "unit_scale": false
      },
      "application/vnd.jupyter.widget-view+json": {
       "model_id": "4312295ba2a84da3872e6453d78466c5",
       "version_major": 2,
       "version_minor": 0
      },
      "text/plain": [
       "days:   0%|          | 0/7 [00:00<?, ?it/s]"
      ]
     },
     "metadata": {},
     "output_type": "display_data"
    },
    {
     "data": {
      "application/json": {
       "ascii": false,
       "bar_format": null,
       "colour": null,
       "elapsed": 0.05148482322692871,
       "initial": 0,
       "n": 0,
       "ncols": null,
       "nrows": 15,
       "postfix": null,
       "prefix": "days",
       "rate": null,
       "total": 7,
       "unit": "it",
       "unit_divisor": 1000,
       "unit_scale": false
      },
      "application/vnd.jupyter.widget-view+json": {
       "model_id": "5ba5596dfb694b5caaa2d458bc54a3f1",
       "version_major": 2,
       "version_minor": 0
      },
      "text/plain": [
       "days:   0%|          | 0/7 [00:00<?, ?it/s]"
      ]
     },
     "metadata": {},
     "output_type": "display_data"
    },
    {
     "data": {
      "application/json": {
       "ascii": false,
       "bar_format": null,
       "colour": null,
       "elapsed": 0.042551517486572266,
       "initial": 0,
       "n": 0,
       "ncols": null,
       "nrows": 15,
       "postfix": null,
       "prefix": "days",
       "rate": null,
       "total": 7,
       "unit": "it",
       "unit_divisor": 1000,
       "unit_scale": false
      },
      "application/vnd.jupyter.widget-view+json": {
       "model_id": "f7e3b4b96f6a49e9ba17ab7aa63da4ed",
       "version_major": 2,
       "version_minor": 0
      },
      "text/plain": [
       "days:   0%|          | 0/7 [00:00<?, ?it/s]"
      ]
     },
     "metadata": {},
     "output_type": "display_data"
    },
    {
     "data": {
      "application/json": {
       "ascii": false,
       "bar_format": null,
       "colour": null,
       "elapsed": 0.01329946517944336,
       "initial": 0,
       "n": 0,
       "ncols": null,
       "nrows": 15,
       "postfix": null,
       "prefix": "days",
       "rate": null,
       "total": 7,
       "unit": "it",
       "unit_divisor": 1000,
       "unit_scale": false
      },
      "application/vnd.jupyter.widget-view+json": {
       "model_id": "4875f1ae410d485f86beb6b2d86b943c",
       "version_major": 2,
       "version_minor": 0
      },
      "text/plain": [
       "days:   0%|          | 0/7 [00:00<?, ?it/s]"
      ]
     },
     "metadata": {},
     "output_type": "display_data"
    },
    {
     "data": {
      "application/json": {
       "ascii": false,
       "bar_format": null,
       "colour": null,
       "elapsed": 0.0380861759185791,
       "initial": 0,
       "n": 0,
       "ncols": null,
       "nrows": 15,
       "postfix": null,
       "prefix": "days",
       "rate": null,
       "total": 7,
       "unit": "it",
       "unit_divisor": 1000,
       "unit_scale": false
      },
      "application/vnd.jupyter.widget-view+json": {
       "model_id": "80a39a03a0b445a0833bd6349b77ed7e",
       "version_major": 2,
       "version_minor": 0
      },
      "text/plain": [
       "days:   0%|          | 0/7 [00:00<?, ?it/s]"
      ]
     },
     "metadata": {},
     "output_type": "display_data"
    },
    {
     "data": {
      "application/json": {
       "ascii": false,
       "bar_format": null,
       "colour": null,
       "elapsed": 0.013681173324584961,
       "initial": 0,
       "n": 0,
       "ncols": null,
       "nrows": 15,
       "postfix": null,
       "prefix": "days",
       "rate": null,
       "total": 7,
       "unit": "it",
       "unit_divisor": 1000,
       "unit_scale": false
      },
      "application/vnd.jupyter.widget-view+json": {
       "model_id": "60b024942b0e474587c45f0bdc6d1742",
       "version_major": 2,
       "version_minor": 0
      },
      "text/plain": [
       "days:   0%|          | 0/7 [00:00<?, ?it/s]"
      ]
     },
     "metadata": {},
     "output_type": "display_data"
    },
    {
     "data": {
      "application/json": {
       "ascii": false,
       "bar_format": null,
       "colour": null,
       "elapsed": 0.041620731353759766,
       "initial": 0,
       "n": 0,
       "ncols": null,
       "nrows": 15,
       "postfix": null,
       "prefix": "days",
       "rate": null,
       "total": 7,
       "unit": "it",
       "unit_divisor": 1000,
       "unit_scale": false
      },
      "application/vnd.jupyter.widget-view+json": {
       "model_id": "4417dd5a419b4d368104d47b128d2033",
       "version_major": 2,
       "version_minor": 0
      },
      "text/plain": [
       "days:   0%|          | 0/7 [00:00<?, ?it/s]"
      ]
     },
     "metadata": {},
     "output_type": "display_data"
    },
    {
     "data": {
      "application/json": {
       "ascii": false,
       "bar_format": null,
       "colour": null,
       "elapsed": 0.013812541961669922,
       "initial": 0,
       "n": 0,
       "ncols": null,
       "nrows": 15,
       "postfix": null,
       "prefix": "days",
       "rate": null,
       "total": 7,
       "unit": "it",
       "unit_divisor": 1000,
       "unit_scale": false
      },
      "application/vnd.jupyter.widget-view+json": {
       "model_id": "2316d517c23f46c68634dd8ce1627520",
       "version_major": 2,
       "version_minor": 0
      },
      "text/plain": [
       "days:   0%|          | 0/7 [00:00<?, ?it/s]"
      ]
     },
     "metadata": {},
     "output_type": "display_data"
    },
    {
     "data": {
      "application/json": {
       "ascii": false,
       "bar_format": null,
       "colour": null,
       "elapsed": 0.03924989700317383,
       "initial": 0,
       "n": 0,
       "ncols": null,
       "nrows": 15,
       "postfix": null,
       "prefix": "days",
       "rate": null,
       "total": 7,
       "unit": "it",
       "unit_divisor": 1000,
       "unit_scale": false
      },
      "application/vnd.jupyter.widget-view+json": {
       "model_id": "d14111c1b8e543c686e23dd48358f3df",
       "version_major": 2,
       "version_minor": 0
      },
      "text/plain": [
       "days:   0%|          | 0/7 [00:00<?, ?it/s]"
      ]
     },
     "metadata": {},
     "output_type": "display_data"
    },
    {
     "data": {
      "application/json": {
       "ascii": false,
       "bar_format": null,
       "colour": null,
       "elapsed": 0.013916015625,
       "initial": 0,
       "n": 0,
       "ncols": null,
       "nrows": 15,
       "postfix": null,
       "prefix": "days",
       "rate": null,
       "total": 7,
       "unit": "it",
       "unit_divisor": 1000,
       "unit_scale": false
      },
      "application/vnd.jupyter.widget-view+json": {
       "model_id": "ac3e8b64612040f1b92983fa93bc5b86",
       "version_major": 2,
       "version_minor": 0
      },
      "text/plain": [
       "days:   0%|          | 0/7 [00:00<?, ?it/s]"
      ]
     },
     "metadata": {},
     "output_type": "display_data"
    },
    {
     "data": {
      "application/json": {
       "ascii": false,
       "bar_format": null,
       "colour": null,
       "elapsed": 0.05371379852294922,
       "initial": 0,
       "n": 0,
       "ncols": null,
       "nrows": 15,
       "postfix": null,
       "prefix": "days",
       "rate": null,
       "total": 7,
       "unit": "it",
       "unit_divisor": 1000,
       "unit_scale": false
      },
      "application/vnd.jupyter.widget-view+json": {
       "model_id": "7bfe024be7fe4e5f805b35828a99bf49",
       "version_major": 2,
       "version_minor": 0
      },
      "text/plain": [
       "days:   0%|          | 0/7 [00:00<?, ?it/s]"
      ]
     },
     "metadata": {},
     "output_type": "display_data"
    },
    {
     "data": {
      "application/json": {
       "ascii": false,
       "bar_format": null,
       "colour": null,
       "elapsed": 0.013463497161865234,
       "initial": 0,
       "n": 0,
       "ncols": null,
       "nrows": 15,
       "postfix": null,
       "prefix": "days",
       "rate": null,
       "total": 7,
       "unit": "it",
       "unit_divisor": 1000,
       "unit_scale": false
      },
      "application/vnd.jupyter.widget-view+json": {
       "model_id": "2dc3079a3b5b41a59a157f92d4b1ed16",
       "version_major": 2,
       "version_minor": 0
      },
      "text/plain": [
       "days:   0%|          | 0/7 [00:00<?, ?it/s]"
      ]
     },
     "metadata": {},
     "output_type": "display_data"
    },
    {
     "data": {
      "application/json": {
       "ascii": false,
       "bar_format": null,
       "colour": null,
       "elapsed": 0.049848318099975586,
       "initial": 0,
       "n": 0,
       "ncols": null,
       "nrows": 15,
       "postfix": null,
       "prefix": "days",
       "rate": null,
       "total": 7,
       "unit": "it",
       "unit_divisor": 1000,
       "unit_scale": false
      },
      "application/vnd.jupyter.widget-view+json": {
       "model_id": "c160760fa1e746929e381649ee9afdf1",
       "version_major": 2,
       "version_minor": 0
      },
      "text/plain": [
       "days:   0%|          | 0/7 [00:00<?, ?it/s]"
      ]
     },
     "metadata": {},
     "output_type": "display_data"
    },
    {
     "data": {
      "application/json": {
       "ascii": false,
       "bar_format": null,
       "colour": null,
       "elapsed": 0.015965938568115234,
       "initial": 0,
       "n": 0,
       "ncols": null,
       "nrows": 15,
       "postfix": null,
       "prefix": "days",
       "rate": null,
       "total": 7,
       "unit": "it",
       "unit_divisor": 1000,
       "unit_scale": false
      },
      "application/vnd.jupyter.widget-view+json": {
       "model_id": "f00e59b28e79490b98405e8ce3e48db8",
       "version_major": 2,
       "version_minor": 0
      },
      "text/plain": [
       "days:   0%|          | 0/7 [00:00<?, ?it/s]"
      ]
     },
     "metadata": {},
     "output_type": "display_data"
    },
    {
     "data": {
      "application/json": {
       "ascii": false,
       "bar_format": null,
       "colour": null,
       "elapsed": 0.06111431121826172,
       "initial": 0,
       "n": 0,
       "ncols": null,
       "nrows": 15,
       "postfix": null,
       "prefix": "days",
       "rate": null,
       "total": 7,
       "unit": "it",
       "unit_divisor": 1000,
       "unit_scale": false
      },
      "application/vnd.jupyter.widget-view+json": {
       "model_id": "37117f1278ba48f780d078135452a22b",
       "version_major": 2,
       "version_minor": 0
      },
      "text/plain": [
       "days:   0%|          | 0/7 [00:00<?, ?it/s]"
      ]
     },
     "metadata": {},
     "output_type": "display_data"
    },
    {
     "data": {
      "application/json": {
       "ascii": false,
       "bar_format": null,
       "colour": null,
       "elapsed": 0.01340031623840332,
       "initial": 0,
       "n": 0,
       "ncols": null,
       "nrows": 15,
       "postfix": null,
       "prefix": "days",
       "rate": null,
       "total": 7,
       "unit": "it",
       "unit_divisor": 1000,
       "unit_scale": false
      },
      "application/vnd.jupyter.widget-view+json": {
       "model_id": "e935bf53444049bda7597f8bd8885edb",
       "version_major": 2,
       "version_minor": 0
      },
      "text/plain": [
       "days:   0%|          | 0/7 [00:00<?, ?it/s]"
      ]
     },
     "metadata": {},
     "output_type": "display_data"
    },
    {
     "data": {
      "application/json": {
       "ascii": false,
       "bar_format": null,
       "colour": null,
       "elapsed": 0.05413031578063965,
       "initial": 0,
       "n": 0,
       "ncols": null,
       "nrows": 15,
       "postfix": null,
       "prefix": "days",
       "rate": null,
       "total": 7,
       "unit": "it",
       "unit_divisor": 1000,
       "unit_scale": false
      },
      "application/vnd.jupyter.widget-view+json": {
       "model_id": "31a7c69361c84c648933cb5db5eddd06",
       "version_major": 2,
       "version_minor": 0
      },
      "text/plain": [
       "days:   0%|          | 0/7 [00:00<?, ?it/s]"
      ]
     },
     "metadata": {},
     "output_type": "display_data"
    },
    {
     "name": "stdout",
     "output_type": "stream",
     "text": [
      "[Context(learner_sim=<ola2022_project.simulation.simulation.Simulation object at 0x7efc682a5e40>, features=[Feature(name='feature_2', value=0)], nums=1910, exp_prob=0.7156238291494942, max_exp_reward=11113.42857142857, weighted_bound=7641.799739052764), Context(learner_sim=<ola2022_project.simulation.simulation.Simulation object at 0x7efc682a6a40>, features=[Feature(name='feature_2', value=1)], nums=686, exp_prob=0.26859827721221613, max_exp_reward=9175.0, weighted_bound=2035.657543736223)]\n"
     ]
    },
    {
     "data": {
      "application/json": {
       "ascii": false,
       "bar_format": null,
       "colour": null,
       "elapsed": 0.014794588088989258,
       "initial": 0,
       "n": 0,
       "ncols": null,
       "nrows": 15,
       "postfix": null,
       "prefix": "days",
       "rate": null,
       "total": 7,
       "unit": "it",
       "unit_divisor": 1000,
       "unit_scale": false
      },
      "application/vnd.jupyter.widget-view+json": {
       "model_id": "2fe9024858e04d81b784eb19ba5a23a9",
       "version_major": 2,
       "version_minor": 0
      },
      "text/plain": [
       "days:   0%|          | 0/7 [00:00<?, ?it/s]"
      ]
     },
     "metadata": {},
     "output_type": "display_data"
    },
    {
     "data": {
      "application/json": {
       "ascii": false,
       "bar_format": null,
       "colour": null,
       "elapsed": 0.05072808265686035,
       "initial": 0,
       "n": 0,
       "ncols": null,
       "nrows": 15,
       "postfix": null,
       "prefix": "days",
       "rate": null,
       "total": 14,
       "unit": "it",
       "unit_divisor": 1000,
       "unit_scale": false
      },
      "application/vnd.jupyter.widget-view+json": {
       "model_id": "cd706c00615640a49d517e146ac9b52b",
       "version_major": 2,
       "version_minor": 0
      },
      "text/plain": [
       "days:   0%|          | 0/14 [00:00<?, ?it/s]"
      ]
     },
     "metadata": {},
     "output_type": "display_data"
    },
    {
     "data": {
      "application/json": {
       "ascii": false,
       "bar_format": null,
       "colour": null,
       "elapsed": 0.05284905433654785,
       "initial": 0,
       "n": 0,
       "ncols": null,
       "nrows": 15,
       "postfix": null,
       "prefix": "days",
       "rate": null,
       "total": 14,
       "unit": "it",
       "unit_divisor": 1000,
       "unit_scale": false
      },
      "application/vnd.jupyter.widget-view+json": {
       "model_id": "f6b562a5126f4827accb408870fabd19",
       "version_major": 2,
       "version_minor": 0
      },
      "text/plain": [
       "days:   0%|          | 0/14 [00:00<?, ?it/s]"
      ]
     },
     "metadata": {},
     "output_type": "display_data"
    },
    {
     "data": {
      "application/json": {
       "ascii": false,
       "bar_format": null,
       "colour": null,
       "elapsed": 0.013124465942382812,
       "initial": 0,
       "n": 0,
       "ncols": null,
       "nrows": 15,
       "postfix": null,
       "prefix": "days",
       "rate": null,
       "total": 14,
       "unit": "it",
       "unit_divisor": 1000,
       "unit_scale": false
      },
      "application/vnd.jupyter.widget-view+json": {
       "model_id": "f5c5b266fb884955a434a016c79cc434",
       "version_major": 2,
       "version_minor": 0
      },
      "text/plain": [
       "days:   0%|          | 0/14 [00:00<?, ?it/s]"
      ]
     },
     "metadata": {},
     "output_type": "display_data"
    },
    {
     "data": {
      "application/json": {
       "ascii": false,
       "bar_format": null,
       "colour": null,
       "elapsed": 0.04072713851928711,
       "initial": 0,
       "n": 0,
       "ncols": null,
       "nrows": 15,
       "postfix": null,
       "prefix": "days",
       "rate": null,
       "total": 14,
       "unit": "it",
       "unit_divisor": 1000,
       "unit_scale": false
      },
      "application/vnd.jupyter.widget-view+json": {
       "model_id": "c239b7bb6b7144d083b52d454c792809",
       "version_major": 2,
       "version_minor": 0
      },
      "text/plain": [
       "days:   0%|          | 0/14 [00:00<?, ?it/s]"
      ]
     },
     "metadata": {},
     "output_type": "display_data"
    },
    {
     "data": {
      "application/json": {
       "ascii": false,
       "bar_format": null,
       "colour": null,
       "elapsed": 0.013256549835205078,
       "initial": 0,
       "n": 0,
       "ncols": null,
       "nrows": 15,
       "postfix": null,
       "prefix": "days",
       "rate": null,
       "total": 14,
       "unit": "it",
       "unit_divisor": 1000,
       "unit_scale": false
      },
      "application/vnd.jupyter.widget-view+json": {
       "model_id": "f4f27f333c1742d494a08f22fec5f371",
       "version_major": 2,
       "version_minor": 0
      },
      "text/plain": [
       "days:   0%|          | 0/14 [00:00<?, ?it/s]"
      ]
     },
     "metadata": {},
     "output_type": "display_data"
    },
    {
     "data": {
      "application/json": {
       "ascii": false,
       "bar_format": null,
       "colour": null,
       "elapsed": 0.0406036376953125,
       "initial": 0,
       "n": 0,
       "ncols": null,
       "nrows": 15,
       "postfix": null,
       "prefix": "days",
       "rate": null,
       "total": 14,
       "unit": "it",
       "unit_divisor": 1000,
       "unit_scale": false
      },
      "application/vnd.jupyter.widget-view+json": {
       "model_id": "a51c548076ed423aa6e2196d264f21cd",
       "version_major": 2,
       "version_minor": 0
      },
      "text/plain": [
       "days:   0%|          | 0/14 [00:00<?, ?it/s]"
      ]
     },
     "metadata": {},
     "output_type": "display_data"
    },
    {
     "data": {
      "application/json": {
       "ascii": false,
       "bar_format": null,
       "colour": null,
       "elapsed": 0.013345479965209961,
       "initial": 0,
       "n": 0,
       "ncols": null,
       "nrows": 15,
       "postfix": null,
       "prefix": "days",
       "rate": null,
       "total": 14,
       "unit": "it",
       "unit_divisor": 1000,
       "unit_scale": false
      },
      "application/vnd.jupyter.widget-view+json": {
       "model_id": "7a14cf9934e64645bd3dc70157bc9d1e",
       "version_major": 2,
       "version_minor": 0
      },
      "text/plain": [
       "days:   0%|          | 0/14 [00:00<?, ?it/s]"
      ]
     },
     "metadata": {},
     "output_type": "display_data"
    },
    {
     "data": {
      "application/json": {
       "ascii": false,
       "bar_format": null,
       "colour": null,
       "elapsed": 0.05244755744934082,
       "initial": 0,
       "n": 0,
       "ncols": null,
       "nrows": 15,
       "postfix": null,
       "prefix": "days",
       "rate": null,
       "total": 14,
       "unit": "it",
       "unit_divisor": 1000,
       "unit_scale": false
      },
      "application/vnd.jupyter.widget-view+json": {
       "model_id": "1a0e4919aefc4174b812e838da5621a6",
       "version_major": 2,
       "version_minor": 0
      },
      "text/plain": [
       "days:   0%|          | 0/14 [00:00<?, ?it/s]"
      ]
     },
     "metadata": {},
     "output_type": "display_data"
    },
    {
     "data": {
      "application/json": {
       "ascii": false,
       "bar_format": null,
       "colour": null,
       "elapsed": 0.01597285270690918,
       "initial": 0,
       "n": 0,
       "ncols": null,
       "nrows": 15,
       "postfix": null,
       "prefix": "days",
       "rate": null,
       "total": 14,
       "unit": "it",
       "unit_divisor": 1000,
       "unit_scale": false
      },
      "application/vnd.jupyter.widget-view+json": {
       "model_id": "d8911b11949c455d8b6ff476e0a9f732",
       "version_major": 2,
       "version_minor": 0
      },
      "text/plain": [
       "days:   0%|          | 0/14 [00:00<?, ?it/s]"
      ]
     },
     "metadata": {},
     "output_type": "display_data"
    },
    {
     "data": {
      "application/json": {
       "ascii": false,
       "bar_format": null,
       "colour": null,
       "elapsed": 0.0379183292388916,
       "initial": 0,
       "n": 0,
       "ncols": null,
       "nrows": 15,
       "postfix": null,
       "prefix": "days",
       "rate": null,
       "total": 14,
       "unit": "it",
       "unit_divisor": 1000,
       "unit_scale": false
      },
      "application/vnd.jupyter.widget-view+json": {
       "model_id": "7bcf870a2c1e4ce8957a9a647d653173",
       "version_major": 2,
       "version_minor": 0
      },
      "text/plain": [
       "days:   0%|          | 0/14 [00:00<?, ?it/s]"
      ]
     },
     "metadata": {},
     "output_type": "display_data"
    },
    {
     "data": {
      "application/json": {
       "ascii": false,
       "bar_format": null,
       "colour": null,
       "elapsed": 0.013967752456665039,
       "initial": 0,
       "n": 0,
       "ncols": null,
       "nrows": 15,
       "postfix": null,
       "prefix": "days",
       "rate": null,
       "total": 14,
       "unit": "it",
       "unit_divisor": 1000,
       "unit_scale": false
      },
      "application/vnd.jupyter.widget-view+json": {
       "model_id": "6c0c8884b6b6437b86ab5d198c6db2c0",
       "version_major": 2,
       "version_minor": 0
      },
      "text/plain": [
       "days:   0%|          | 0/14 [00:00<?, ?it/s]"
      ]
     },
     "metadata": {},
     "output_type": "display_data"
    },
    {
     "data": {
      "application/json": {
       "ascii": false,
       "bar_format": null,
       "colour": null,
       "elapsed": 0.04738140106201172,
       "initial": 0,
       "n": 0,
       "ncols": null,
       "nrows": 15,
       "postfix": null,
       "prefix": "days",
       "rate": null,
       "total": 14,
       "unit": "it",
       "unit_divisor": 1000,
       "unit_scale": false
      },
      "application/vnd.jupyter.widget-view+json": {
       "model_id": "a95b44b0fc0641e0b64d788eaafb992f",
       "version_major": 2,
       "version_minor": 0
      },
      "text/plain": [
       "days:   0%|          | 0/14 [00:00<?, ?it/s]"
      ]
     },
     "metadata": {},
     "output_type": "display_data"
    },
    {
     "data": {
      "application/json": {
       "ascii": false,
       "bar_format": null,
       "colour": null,
       "elapsed": 0.017208576202392578,
       "initial": 0,
       "n": 0,
       "ncols": null,
       "nrows": 15,
       "postfix": null,
       "prefix": "days",
       "rate": null,
       "total": 14,
       "unit": "it",
       "unit_divisor": 1000,
       "unit_scale": false
      },
      "application/vnd.jupyter.widget-view+json": {
       "model_id": "3cbc6ebeff5a46e59dbd91d06f967c03",
       "version_major": 2,
       "version_minor": 0
      },
      "text/plain": [
       "days:   0%|          | 0/14 [00:00<?, ?it/s]"
      ]
     },
     "metadata": {},
     "output_type": "display_data"
    },
    {
     "data": {
      "application/json": {
       "ascii": false,
       "bar_format": null,
       "colour": null,
       "elapsed": 0.04010367393493652,
       "initial": 0,
       "n": 0,
       "ncols": null,
       "nrows": 15,
       "postfix": null,
       "prefix": "days",
       "rate": null,
       "total": 14,
       "unit": "it",
       "unit_divisor": 1000,
       "unit_scale": false
      },
      "application/vnd.jupyter.widget-view+json": {
       "model_id": "4cbd16d0f65a4d4192c99e5b0c59839d",
       "version_major": 2,
       "version_minor": 0
      },
      "text/plain": [
       "days:   0%|          | 0/14 [00:00<?, ?it/s]"
      ]
     },
     "metadata": {},
     "output_type": "display_data"
    },
    {
     "data": {
      "application/json": {
       "ascii": false,
       "bar_format": null,
       "colour": null,
       "elapsed": 0.013231039047241211,
       "initial": 0,
       "n": 0,
       "ncols": null,
       "nrows": 15,
       "postfix": null,
       "prefix": "days",
       "rate": null,
       "total": 14,
       "unit": "it",
       "unit_divisor": 1000,
       "unit_scale": false
      },
      "application/vnd.jupyter.widget-view+json": {
       "model_id": "eb6f646a193e403880a358ee920f07c1",
       "version_major": 2,
       "version_minor": 0
      },
      "text/plain": [
       "days:   0%|          | 0/14 [00:00<?, ?it/s]"
      ]
     },
     "metadata": {},
     "output_type": "display_data"
    },
    {
     "data": {
      "application/json": {
       "ascii": false,
       "bar_format": null,
       "colour": null,
       "elapsed": 0.05142521858215332,
       "initial": 0,
       "n": 0,
       "ncols": null,
       "nrows": 15,
       "postfix": null,
       "prefix": "days",
       "rate": null,
       "total": 14,
       "unit": "it",
       "unit_divisor": 1000,
       "unit_scale": false
      },
      "application/vnd.jupyter.widget-view+json": {
       "model_id": "07ecf205d1b548f5bdfe23d6808274cb",
       "version_major": 2,
       "version_minor": 0
      },
      "text/plain": [
       "days:   0%|          | 0/14 [00:00<?, ?it/s]"
      ]
     },
     "metadata": {},
     "output_type": "display_data"
    },
    {
     "data": {
      "application/json": {
       "ascii": false,
       "bar_format": null,
       "colour": null,
       "elapsed": 0.014366865158081055,
       "initial": 0,
       "n": 0,
       "ncols": null,
       "nrows": 15,
       "postfix": null,
       "prefix": "days",
       "rate": null,
       "total": 14,
       "unit": "it",
       "unit_divisor": 1000,
       "unit_scale": false
      },
      "application/vnd.jupyter.widget-view+json": {
       "model_id": "a0241c83842b429faad34cdfcb014e79",
       "version_major": 2,
       "version_minor": 0
      },
      "text/plain": [
       "days:   0%|          | 0/14 [00:00<?, ?it/s]"
      ]
     },
     "metadata": {},
     "output_type": "display_data"
    },
    {
     "data": {
      "application/json": {
       "ascii": false,
       "bar_format": null,
       "colour": null,
       "elapsed": 0.05494546890258789,
       "initial": 0,
       "n": 0,
       "ncols": null,
       "nrows": 15,
       "postfix": null,
       "prefix": "days",
       "rate": null,
       "total": 14,
       "unit": "it",
       "unit_divisor": 1000,
       "unit_scale": false
      },
      "application/vnd.jupyter.widget-view+json": {
       "model_id": "5cb87de2c6174020b04b035859104791",
       "version_major": 2,
       "version_minor": 0
      },
      "text/plain": [
       "days:   0%|          | 0/14 [00:00<?, ?it/s]"
      ]
     },
     "metadata": {},
     "output_type": "display_data"
    },
    {
     "data": {
      "application/json": {
       "ascii": false,
       "bar_format": null,
       "colour": null,
       "elapsed": 0.013309478759765625,
       "initial": 0,
       "n": 0,
       "ncols": null,
       "nrows": 15,
       "postfix": null,
       "prefix": "days",
       "rate": null,
       "total": 14,
       "unit": "it",
       "unit_divisor": 1000,
       "unit_scale": false
      },
      "application/vnd.jupyter.widget-view+json": {
       "model_id": "efe01d8160c14a229d59bec1d644b71c",
       "version_major": 2,
       "version_minor": 0
      },
      "text/plain": [
       "days:   0%|          | 0/14 [00:00<?, ?it/s]"
      ]
     },
     "metadata": {},
     "output_type": "display_data"
    },
    {
     "data": {
      "application/json": {
       "ascii": false,
       "bar_format": null,
       "colour": null,
       "elapsed": 0.038794517517089844,
       "initial": 0,
       "n": 0,
       "ncols": null,
       "nrows": 15,
       "postfix": null,
       "prefix": "days",
       "rate": null,
       "total": 14,
       "unit": "it",
       "unit_divisor": 1000,
       "unit_scale": false
      },
      "application/vnd.jupyter.widget-view+json": {
       "model_id": "edf7a799d7514731a36b864f8e74de25",
       "version_major": 2,
       "version_minor": 0
      },
      "text/plain": [
       "days:   0%|          | 0/14 [00:00<?, ?it/s]"
      ]
     },
     "metadata": {},
     "output_type": "display_data"
    },
    {
     "data": {
      "application/json": {
       "ascii": false,
       "bar_format": null,
       "colour": null,
       "elapsed": 0.013240814208984375,
       "initial": 0,
       "n": 0,
       "ncols": null,
       "nrows": 15,
       "postfix": null,
       "prefix": "days",
       "rate": null,
       "total": 14,
       "unit": "it",
       "unit_divisor": 1000,
       "unit_scale": false
      },
      "application/vnd.jupyter.widget-view+json": {
       "model_id": "00196915b08848da8db11e09de1ef34b",
       "version_major": 2,
       "version_minor": 0
      },
      "text/plain": [
       "days:   0%|          | 0/14 [00:00<?, ?it/s]"
      ]
     },
     "metadata": {},
     "output_type": "display_data"
    },
    {
     "data": {
      "application/json": {
       "ascii": false,
       "bar_format": null,
       "colour": null,
       "elapsed": 0.03924870491027832,
       "initial": 0,
       "n": 0,
       "ncols": null,
       "nrows": 15,
       "postfix": null,
       "prefix": "days",
       "rate": null,
       "total": 14,
       "unit": "it",
       "unit_divisor": 1000,
       "unit_scale": false
      },
      "application/vnd.jupyter.widget-view+json": {
       "model_id": "d3b2157155a040e08b79c51cd2eacc4b",
       "version_major": 2,
       "version_minor": 0
      },
      "text/plain": [
       "days:   0%|          | 0/14 [00:00<?, ?it/s]"
      ]
     },
     "metadata": {},
     "output_type": "display_data"
    },
    {
     "data": {
      "application/json": {
       "ascii": false,
       "bar_format": null,
       "colour": null,
       "elapsed": 0.014792203903198242,
       "initial": 0,
       "n": 0,
       "ncols": null,
       "nrows": 15,
       "postfix": null,
       "prefix": "days",
       "rate": null,
       "total": 14,
       "unit": "it",
       "unit_divisor": 1000,
       "unit_scale": false
      },
      "application/vnd.jupyter.widget-view+json": {
       "model_id": "79f191cc7b834fab8455578673d9f25c",
       "version_major": 2,
       "version_minor": 0
      },
      "text/plain": [
       "days:   0%|          | 0/14 [00:00<?, ?it/s]"
      ]
     },
     "metadata": {},
     "output_type": "display_data"
    },
    {
     "data": {
      "application/json": {
       "ascii": false,
       "bar_format": null,
       "colour": null,
       "elapsed": 0.06522893905639648,
       "initial": 0,
       "n": 0,
       "ncols": null,
       "nrows": 15,
       "postfix": null,
       "prefix": "days",
       "rate": null,
       "total": 14,
       "unit": "it",
       "unit_divisor": 1000,
       "unit_scale": false
      },
      "application/vnd.jupyter.widget-view+json": {
       "model_id": "5104bb22660b43f3848c8bcadfb1bd4b",
       "version_major": 2,
       "version_minor": 0
      },
      "text/plain": [
       "days:   0%|          | 0/14 [00:00<?, ?it/s]"
      ]
     },
     "metadata": {},
     "output_type": "display_data"
    },
    {
     "name": "stdout",
     "output_type": "stream",
     "text": [
      "[Context(learner_sim=<ola2022_project.simulation.simulation.Simulation object at 0x7efc10c467d0>, features=[Feature(name='feature_2', value=0), Feature(name='feature_1', value=0)], nums=887, exp_prob=0.17233339809597825, max_exp_reward=7485.071428571428, weighted_bound=982.3366057718185), Context(learner_sim=<ola2022_project.simulation.simulation.Simulation object at 0x7efc109b2140>, features=[Feature(name='feature_2', value=0), Feature(name='feature_1', value=1)], nums=3778, exp_prob=0.6475831333561879, max_exp_reward=11097.142857142857, weighted_bound=6965.351655541612), Context(learner_sim=<ola2022_project.simulation.simulation.Simulation object at 0x7efc682a6a40>, features=[Feature(name='feature_2', value=1)], nums=686, exp_prob=0.26859827721221613, max_exp_reward=9175.0, weighted_bound=2035.657543736223)]\n"
     ]
    },
    {
     "data": {
      "application/json": {
       "ascii": false,
       "bar_format": null,
       "colour": null,
       "elapsed": 0.013583183288574219,
       "initial": 0,
       "n": 0,
       "ncols": null,
       "nrows": 15,
       "postfix": null,
       "prefix": "days",
       "rate": null,
       "total": 7,
       "unit": "it",
       "unit_divisor": 1000,
       "unit_scale": false
      },
      "application/vnd.jupyter.widget-view+json": {
       "model_id": "0d29b3592ad24650be0e394dc9a63cdf",
       "version_major": 2,
       "version_minor": 0
      },
      "text/plain": [
       "days:   0%|          | 0/7 [00:00<?, ?it/s]"
      ]
     },
     "metadata": {},
     "output_type": "display_data"
    }
   ],
   "source": [
    "simulation.simulate(sim_n_days)\n",
    "simulation.learner.context_generation(simulation.dataset)\n",
    "print(simulation.learner.contexts)\n",
    "simulation.simulate(sim_n_days)\n",
    "simulation.learner.context_generation(simulation.dataset)\n",
    "print(simulation.learner.contexts)\n",
    "simulation.simulate(sim_n_days)\n",
    "rewards = simulation.rewards\n",
    "dataset = simulation.dataset"
   ]
  },
  {
   "cell_type": "markdown",
   "id": "40de1c93",
   "metadata": {},
   "source": [
    "#### Plotting the results\n",
    "Once the simulation has been run, collect the results and display them nicely using plotting functions."
   ]
  },
  {
   "cell_type": "code",
   "execution_count": 9,
   "id": "01edeb73",
   "metadata": {},
   "outputs": [
    {
     "name": "stdout",
     "output_type": "stream",
     "text": [
      "[ 8872.  7437.  7494.  8586.  8805.  6904. 10934. 11549. 11885.  9898.\n",
      " 11709. 11359.  8837. 11516.     0.     0.  1825.     0.  1365.   680.\n",
      "     0.]\n"
     ]
    },
    {
     "data": {
      "image/png": "[encoded data removed]",
      "text/plain": [
       "<Figure size 640x480 with 1 Axes>"
      ]
     },
     "metadata": {},
     "output_type": "display_data"
    }
   ],
   "source": [
    "# Plotting the experiment\n",
    "print(rewards)\n",
    "clairvoyant = np.full((1, sim_n_days*3), clairvoyant_reward(env, 1000, 400, 20))\n",
    "plot_experiments_days(sim_n_days*3, [rewards, clairvoyant[0]], days_step=1, \n",
    "                      show_mean=True, cumulate=False, show_markers=True, \n",
    "                      names=[\"Experiment {n}\"])"
   ]
  },
  {
   "cell_type": "markdown",
   "id": "327a7259",
   "metadata": {},
   "source": [
    "#### Context generation"
   ]
  },
  {
   "cell_type": "code",
   "execution_count": 10,
   "id": "ff81349b",
   "metadata": {},
   "outputs": [],
   "source": [
    "#contexts = tree_generation(\n",
    "#    simulation,\n",
    "#    dataset,\n",
    "#    [Feature(\"feature_1\", None), Feature(\"feature_2\", None)],\n",
    "#)"
   ]
  },
  {
   "cell_type": "code",
   "execution_count": 11,
   "id": "a5cd1582",
   "metadata": {},
   "outputs": [
    {
     "name": "stdout",
     "output_type": "stream",
     "text": [
      "[ 8872.  7437.  7494.  8586.  8805.  6904. 10934. 11549. 11885.  9898.\n",
      " 11709. 11359.  8837. 11516.     0.     0.  1825.     0.  1365.   680.\n",
      "     0.]\n"
     ]
    }
   ],
   "source": [
    "print(simulation.rewards)"
   ]
  }
 ],
 "metadata": {
  "kernelspec": {
   "display_name": "Python 3 (ipykernel)",
   "language": "python",
   "name": "python3"
  },
  "language_info": {
   "codemirror_mode": {
    "name": "ipython",
    "version": 3
   },
   "file_extension": ".py",
   "mimetype": "text/x-python",
   "name": "python",
   "nbconvert_exporter": "python",
   "pygments_lexer": "ipython3",
   "version": "3.10.8"
  }
 },
 "nbformat": 4,
 "nbformat_minor": 5
}
